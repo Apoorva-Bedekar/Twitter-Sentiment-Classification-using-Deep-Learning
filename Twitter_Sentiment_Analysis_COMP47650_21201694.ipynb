{
  "cells": [
    {
      "cell_type": "markdown",
      "metadata": {
        "id": "view-in-github",
        "colab_type": "text"
      },
      "source": [
        "<a href=\"https://colab.research.google.com/github/Apoorva-Bedekar/Twitter-Sentiment-Classification-using-Deep-Learning/blob/main/Twitter_Sentiment_Analysis_COMP47650_21201694.ipynb\" target=\"_parent\"><img src=\"https://colab.research.google.com/assets/colab-badge.svg\" alt=\"Open In Colab\"/></a>"
      ]
    },
    {
      "cell_type": "markdown",
      "metadata": {
        "id": "_nX2TticzrB9"
      },
      "source": [
        "# COMP47650 - Deep Learning Project \n",
        "\n",
        "## Twitter Sentiment Analysis \n",
        "\n",
        "### Submitted by - Apoorva Bedekar (21201694)\n",
        "\n",
        "> In this project I will be using B.2 (Text) Classification dataset. It is a Twitter sentiment analysis for multi-class clasiification for analysing polarity of the sentiment. The following are my target classes :\n",
        " 1. Extremely Negative\n",
        " 2. Negative\n",
        " 3. Neutral \n",
        " 4. Positive \n",
        " 5. Extremely Positive\n",
        "\n",
        " "
      ]
    },
    {
      "cell_type": "markdown",
      "metadata": {
        "id": "sGoZq4wOAWkg"
      },
      "source": [
        "#### Importing required libraries"
      ]
    },
    {
      "cell_type": "code",
      "execution_count": 2,
      "metadata": {
        "id": "en-A2sBE-4tU"
      },
      "outputs": [],
      "source": [
        "import pandas as pd\n",
        "import nltk\n",
        "\n",
        "from nltk.corpus import stopwords\n",
        "from collections import Counter\n",
        "from sklearn.model_selection import train_test_split\n",
        "import matplotlib.pyplot as plt\n",
        "import io\n",
        "import re\n",
        "import numpy as np\n",
        "import tensorflow as tf\n",
        "from tensorflow.keras.preprocessing.text import Tokenizer\n",
        "from tensorflow.keras.preprocessing.sequence import pad_sequences\n",
        "import logging\n",
        "import warnings\n",
        "logging.basicConfig(format=\"%(levelname)s - %(asctime)s: %(message)s\", datefmt='%H:%M:%S', level=logging.INFO)\n",
        "warnings.filterwarnings(\"ignore\")\n",
        "from google.colab import files"
      ]
    },
    {
      "cell_type": "markdown",
      "metadata": {
        "id": "Q4dhAj12APte"
      },
      "source": [
        "#### Loading Data "
      ]
    },
    {
      "cell_type": "code",
      "execution_count": 30,
      "metadata": {
        "id": "bG4E4ZkOK_LF",
        "colab": {
          "resources": {
            "http://localhost:8080/nbextensions/google.colab/files.js": {
              "data": "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",
              "ok": true,
              "headers": [
                [
                  "content-type",
                  "application/javascript"
                ]
              ],
              "status": 200,
              "status_text": ""
            }
          },
          "base_uri": "https://localhost:8080/",
          "height": 130
        },
        "outputId": "ea94f034-8e78-4892-85d7-c3d28ce385e0"
      },
      "outputs": [
        {
          "output_type": "display_data",
          "data": {
            "text/plain": [
              "<IPython.core.display.HTML object>"
            ],
            "text/html": [
              "\n",
              "     <input type=\"file\" id=\"files-04a74a1c-ca65-435c-9553-bf3bdfc68d3c\" name=\"files[]\" multiple disabled\n",
              "        style=\"border:none\" />\n",
              "     <output id=\"result-04a74a1c-ca65-435c-9553-bf3bdfc68d3c\">\n",
              "      Upload widget is only available when the cell has been executed in the\n",
              "      current browser session. Please rerun this cell to enable.\n",
              "      </output>\n",
              "      <script src=\"/nbextensions/google.colab/files.js\"></script> "
            ]
          },
          "metadata": {}
        },
        {
          "output_type": "stream",
          "name": "stdout",
          "text": [
            "Saving Corona_NLP_train.csv to Corona_NLP_train (1).csv\n"
          ]
        },
        {
          "output_type": "display_data",
          "data": {
            "text/plain": [
              "<IPython.core.display.HTML object>"
            ],
            "text/html": [
              "\n",
              "     <input type=\"file\" id=\"files-018a9dfc-17b1-4db5-9114-f32790195e60\" name=\"files[]\" multiple disabled\n",
              "        style=\"border:none\" />\n",
              "     <output id=\"result-018a9dfc-17b1-4db5-9114-f32790195e60\">\n",
              "      Upload widget is only available when the cell has been executed in the\n",
              "      current browser session. Please rerun this cell to enable.\n",
              "      </output>\n",
              "      <script src=\"/nbextensions/google.colab/files.js\"></script> "
            ]
          },
          "metadata": {}
        },
        {
          "output_type": "stream",
          "name": "stdout",
          "text": [
            "Saving Corona_NLP_test.csv to Corona_NLP_test (1).csv\n"
          ]
        }
      ],
      "source": [
        "train = files.upload()\n",
        "test = files.upload()"
      ]
    },
    {
      "cell_type": "code",
      "execution_count": 31,
      "metadata": {
        "id": "0H4lXiBaOLF3"
      },
      "outputs": [],
      "source": [
        "train= pd.read_csv(io.BytesIO(train['Corona_NLP_train.csv']), encoding='latin-1')\n",
        "test = pd.read_csv(io.BytesIO(test['Corona_NLP_test.csv']),encoding='latin-1')"
      ]
    },
    {
      "cell_type": "markdown",
      "metadata": {
        "id": "SDbQSe9YRE2r"
      },
      "source": [
        "#### Initital analysis of the data\n",
        "\n",
        "1.   Training and testing shape \n",
        "2.   Memory usage\n",
        "\n"
      ]
    },
    {
      "cell_type": "code",
      "execution_count": 32,
      "metadata": {
        "id": "wnd06_E3Q0Y2",
        "colab": {
          "base_uri": "https://localhost:8080/"
        },
        "outputId": "7ef20323-d424-4ee7-b256-aba62e5b5ad2"
      },
      "outputs": [
        {
          "output_type": "stream",
          "name": "stdout",
          "text": [
            "Training Set Shape = (41157, 6)\n",
            "Training Set Memory Usage = 1.88 MB\n",
            "Test Set Shape = (3798, 6)\n",
            "Test Set Memory Usage = 0.17 MB\n"
          ]
        }
      ],
      "source": [
        "print('Training Set Shape = {}'.format(train.shape))\n",
        "print('Training Set Memory Usage = {:.2f} MB'.format(train.memory_usage().sum() / 1024**2))\n",
        "print('Test Set Shape = {}'.format(test.shape))\n",
        "print('Test Set Memory Usage = {:.2f} MB'.format(test.memory_usage().sum() / 1024**2))"
      ]
    },
    {
      "cell_type": "code",
      "source": [
        "train.head()"
      ],
      "metadata": {
        "colab": {
          "base_uri": "https://localhost:8080/",
          "height": 206
        },
        "id": "pjA704fL0I_E",
        "outputId": "99fa05cc-07e1-4404-adca-d956f35da137"
      },
      "execution_count": 33,
      "outputs": [
        {
          "output_type": "execute_result",
          "data": {
            "text/plain": [
              "   UserName  ScreenName   Location     TweetAt  \\\n",
              "0      3799       48751     London  16-03-2020   \n",
              "1      3800       48752         UK  16-03-2020   \n",
              "2      3801       48753  Vagabonds  16-03-2020   \n",
              "3      3802       48754        NaN  16-03-2020   \n",
              "4      3803       48755        NaN  16-03-2020   \n",
              "\n",
              "                                       OriginalTweet           Sentiment  \n",
              "0  @MeNyrbie @Phil_Gahan @Chrisitv https://t.co/i...             Neutral  \n",
              "1  advice Talk to your neighbours family to excha...            Positive  \n",
              "2  Coronavirus Australia: Woolworths to give elde...            Positive  \n",
              "3  My food stock is not the only one which is emp...            Positive  \n",
              "4  Me, ready to go at supermarket during the #COV...  Extremely Negative  "
            ],
            "text/html": [
              "\n",
              "  <div id=\"df-53aff1bc-49e8-4469-b281-75481b2a0158\">\n",
              "    <div class=\"colab-df-container\">\n",
              "      <div>\n",
              "<style scoped>\n",
              "    .dataframe tbody tr th:only-of-type {\n",
              "        vertical-align: middle;\n",
              "    }\n",
              "\n",
              "    .dataframe tbody tr th {\n",
              "        vertical-align: top;\n",
              "    }\n",
              "\n",
              "    .dataframe thead th {\n",
              "        text-align: right;\n",
              "    }\n",
              "</style>\n",
              "<table border=\"1\" class=\"dataframe\">\n",
              "  <thead>\n",
              "    <tr style=\"text-align: right;\">\n",
              "      <th></th>\n",
              "      <th>UserName</th>\n",
              "      <th>ScreenName</th>\n",
              "      <th>Location</th>\n",
              "      <th>TweetAt</th>\n",
              "      <th>OriginalTweet</th>\n",
              "      <th>Sentiment</th>\n",
              "    </tr>\n",
              "  </thead>\n",
              "  <tbody>\n",
              "    <tr>\n",
              "      <th>0</th>\n",
              "      <td>3799</td>\n",
              "      <td>48751</td>\n",
              "      <td>London</td>\n",
              "      <td>16-03-2020</td>\n",
              "      <td>@MeNyrbie @Phil_Gahan @Chrisitv https://t.co/i...</td>\n",
              "      <td>Neutral</td>\n",
              "    </tr>\n",
              "    <tr>\n",
              "      <th>1</th>\n",
              "      <td>3800</td>\n",
              "      <td>48752</td>\n",
              "      <td>UK</td>\n",
              "      <td>16-03-2020</td>\n",
              "      <td>advice Talk to your neighbours family to excha...</td>\n",
              "      <td>Positive</td>\n",
              "    </tr>\n",
              "    <tr>\n",
              "      <th>2</th>\n",
              "      <td>3801</td>\n",
              "      <td>48753</td>\n",
              "      <td>Vagabonds</td>\n",
              "      <td>16-03-2020</td>\n",
              "      <td>Coronavirus Australia: Woolworths to give elde...</td>\n",
              "      <td>Positive</td>\n",
              "    </tr>\n",
              "    <tr>\n",
              "      <th>3</th>\n",
              "      <td>3802</td>\n",
              "      <td>48754</td>\n",
              "      <td>NaN</td>\n",
              "      <td>16-03-2020</td>\n",
              "      <td>My food stock is not the only one which is emp...</td>\n",
              "      <td>Positive</td>\n",
              "    </tr>\n",
              "    <tr>\n",
              "      <th>4</th>\n",
              "      <td>3803</td>\n",
              "      <td>48755</td>\n",
              "      <td>NaN</td>\n",
              "      <td>16-03-2020</td>\n",
              "      <td>Me, ready to go at supermarket during the #COV...</td>\n",
              "      <td>Extremely Negative</td>\n",
              "    </tr>\n",
              "  </tbody>\n",
              "</table>\n",
              "</div>\n",
              "      <button class=\"colab-df-convert\" onclick=\"convertToInteractive('df-53aff1bc-49e8-4469-b281-75481b2a0158')\"\n",
              "              title=\"Convert this dataframe to an interactive table.\"\n",
              "              style=\"display:none;\">\n",
              "        \n",
              "  <svg xmlns=\"http://www.w3.org/2000/svg\" height=\"24px\"viewBox=\"0 0 24 24\"\n",
              "       width=\"24px\">\n",
              "    <path d=\"M0 0h24v24H0V0z\" fill=\"none\"/>\n",
              "    <path d=\"M18.56 5.44l.94 2.06.94-2.06 2.06-.94-2.06-.94-.94-2.06-.94 2.06-2.06.94zm-11 1L8.5 8.5l.94-2.06 2.06-.94-2.06-.94L8.5 2.5l-.94 2.06-2.06.94zm10 10l.94 2.06.94-2.06 2.06-.94-2.06-.94-.94-2.06-.94 2.06-2.06.94z\"/><path d=\"M17.41 7.96l-1.37-1.37c-.4-.4-.92-.59-1.43-.59-.52 0-1.04.2-1.43.59L10.3 9.45l-7.72 7.72c-.78.78-.78 2.05 0 2.83L4 21.41c.39.39.9.59 1.41.59.51 0 1.02-.2 1.41-.59l7.78-7.78 2.81-2.81c.8-.78.8-2.07 0-2.86zM5.41 20L4 18.59l7.72-7.72 1.47 1.35L5.41 20z\"/>\n",
              "  </svg>\n",
              "      </button>\n",
              "      \n",
              "  <style>\n",
              "    .colab-df-container {\n",
              "      display:flex;\n",
              "      flex-wrap:wrap;\n",
              "      gap: 12px;\n",
              "    }\n",
              "\n",
              "    .colab-df-convert {\n",
              "      background-color: #E8F0FE;\n",
              "      border: none;\n",
              "      border-radius: 50%;\n",
              "      cursor: pointer;\n",
              "      display: none;\n",
              "      fill: #1967D2;\n",
              "      height: 32px;\n",
              "      padding: 0 0 0 0;\n",
              "      width: 32px;\n",
              "    }\n",
              "\n",
              "    .colab-df-convert:hover {\n",
              "      background-color: #E2EBFA;\n",
              "      box-shadow: 0px 1px 2px rgba(60, 64, 67, 0.3), 0px 1px 3px 1px rgba(60, 64, 67, 0.15);\n",
              "      fill: #174EA6;\n",
              "    }\n",
              "\n",
              "    [theme=dark] .colab-df-convert {\n",
              "      background-color: #3B4455;\n",
              "      fill: #D2E3FC;\n",
              "    }\n",
              "\n",
              "    [theme=dark] .colab-df-convert:hover {\n",
              "      background-color: #434B5C;\n",
              "      box-shadow: 0px 1px 3px 1px rgba(0, 0, 0, 0.15);\n",
              "      filter: drop-shadow(0px 1px 2px rgba(0, 0, 0, 0.3));\n",
              "      fill: #FFFFFF;\n",
              "    }\n",
              "  </style>\n",
              "\n",
              "      <script>\n",
              "        const buttonEl =\n",
              "          document.querySelector('#df-53aff1bc-49e8-4469-b281-75481b2a0158 button.colab-df-convert');\n",
              "        buttonEl.style.display =\n",
              "          google.colab.kernel.accessAllowed ? 'block' : 'none';\n",
              "\n",
              "        async function convertToInteractive(key) {\n",
              "          const element = document.querySelector('#df-53aff1bc-49e8-4469-b281-75481b2a0158');\n",
              "          const dataTable =\n",
              "            await google.colab.kernel.invokeFunction('convertToInteractive',\n",
              "                                                     [key], {});\n",
              "          if (!dataTable) return;\n",
              "\n",
              "          const docLinkHtml = 'Like what you see? Visit the ' +\n",
              "            '<a target=\"_blank\" href=https://colab.research.google.com/notebooks/data_table.ipynb>data table notebook</a>'\n",
              "            + ' to learn more about interactive tables.';\n",
              "          element.innerHTML = '';\n",
              "          dataTable['output_type'] = 'display_data';\n",
              "          await google.colab.output.renderOutput(dataTable, element);\n",
              "          const docLink = document.createElement('div');\n",
              "          docLink.innerHTML = docLinkHtml;\n",
              "          element.appendChild(docLink);\n",
              "        }\n",
              "      </script>\n",
              "    </div>\n",
              "  </div>\n",
              "  "
            ]
          },
          "metadata": {},
          "execution_count": 33
        }
      ]
    },
    {
      "cell_type": "code",
      "source": [
        "print('Data available for each target class: \\n')\n",
        "print(train.groupby('Sentiment').size())"
      ],
      "metadata": {
        "id": "NLG86TkbUBGu",
        "colab": {
          "base_uri": "https://localhost:8080/"
        },
        "outputId": "e2e832a3-ad46-40cb-f35d-7be6b38eea21"
      },
      "execution_count": 34,
      "outputs": [
        {
          "output_type": "stream",
          "name": "stdout",
          "text": [
            "Data available for each target class: \n",
            "\n",
            "Sentiment\n",
            "Extremely Negative     5481\n",
            "Extremely Positive     6624\n",
            "Negative               9917\n",
            "Neutral                7713\n",
            "Positive              11422\n",
            "dtype: int64\n"
          ]
        }
      ]
    },
    {
      "cell_type": "markdown",
      "metadata": {
        "id": "LkEPj-HcmM8O"
      },
      "source": [
        "### Preprocessing the Text Data\n"
      ]
    },
    {
      "cell_type": "markdown",
      "source": [
        "#### Getting Target Classes \n",
        "Here we convert our 5 sentiment polarities into 5 numerical classes. \n",
        "\n",
        "*   Extremely Negative - 0\n",
        "*   Negative - 1\n",
        "*   Neutral - 2 \n",
        "*   Positive - 3\n",
        "*   Extremely Positive - 4"
      ],
      "metadata": {
        "id": "39wcLFq5wVWp"
      }
    },
    {
      "cell_type": "code",
      "source": [
        "def get_target_class(df) :\n",
        "    df['Target_class'] = df['Sentiment'].replace('Extremely Negative', 0).replace('Negative',1).replace('Neutral',2).replace('Positive',3).replace('Extremely Positive',4)\n",
        "    return df"
      ],
      "metadata": {
        "id": "WgSaF-obeeOd"
      },
      "execution_count": 35,
      "outputs": []
    },
    {
      "cell_type": "code",
      "source": [
        "train_data = get_target_class(train)\n",
        "test_data = get_target_class(test)"
      ],
      "metadata": {
        "id": "oZau4N775ue-"
      },
      "execution_count": 36,
      "outputs": []
    },
    {
      "cell_type": "code",
      "source": [
        "train_data.head()"
      ],
      "metadata": {
        "colab": {
          "base_uri": "https://localhost:8080/",
          "height": 206
        },
        "id": "goZAX9krbJMd",
        "outputId": "6461fc7f-14f5-4027-bfaf-70f5a5387c76"
      },
      "execution_count": 37,
      "outputs": [
        {
          "output_type": "execute_result",
          "data": {
            "text/plain": [
              "   UserName  ScreenName   Location     TweetAt  \\\n",
              "0      3799       48751     London  16-03-2020   \n",
              "1      3800       48752         UK  16-03-2020   \n",
              "2      3801       48753  Vagabonds  16-03-2020   \n",
              "3      3802       48754        NaN  16-03-2020   \n",
              "4      3803       48755        NaN  16-03-2020   \n",
              "\n",
              "                                       OriginalTweet           Sentiment  \\\n",
              "0  @MeNyrbie @Phil_Gahan @Chrisitv https://t.co/i...             Neutral   \n",
              "1  advice Talk to your neighbours family to excha...            Positive   \n",
              "2  Coronavirus Australia: Woolworths to give elde...            Positive   \n",
              "3  My food stock is not the only one which is emp...            Positive   \n",
              "4  Me, ready to go at supermarket during the #COV...  Extremely Negative   \n",
              "\n",
              "   Target_class  \n",
              "0             2  \n",
              "1             3  \n",
              "2             3  \n",
              "3             3  \n",
              "4             0  "
            ],
            "text/html": [
              "\n",
              "  <div id=\"df-f88bdb2c-bb43-4c52-a4e8-6b259ef886fa\">\n",
              "    <div class=\"colab-df-container\">\n",
              "      <div>\n",
              "<style scoped>\n",
              "    .dataframe tbody tr th:only-of-type {\n",
              "        vertical-align: middle;\n",
              "    }\n",
              "\n",
              "    .dataframe tbody tr th {\n",
              "        vertical-align: top;\n",
              "    }\n",
              "\n",
              "    .dataframe thead th {\n",
              "        text-align: right;\n",
              "    }\n",
              "</style>\n",
              "<table border=\"1\" class=\"dataframe\">\n",
              "  <thead>\n",
              "    <tr style=\"text-align: right;\">\n",
              "      <th></th>\n",
              "      <th>UserName</th>\n",
              "      <th>ScreenName</th>\n",
              "      <th>Location</th>\n",
              "      <th>TweetAt</th>\n",
              "      <th>OriginalTweet</th>\n",
              "      <th>Sentiment</th>\n",
              "      <th>Target_class</th>\n",
              "    </tr>\n",
              "  </thead>\n",
              "  <tbody>\n",
              "    <tr>\n",
              "      <th>0</th>\n",
              "      <td>3799</td>\n",
              "      <td>48751</td>\n",
              "      <td>London</td>\n",
              "      <td>16-03-2020</td>\n",
              "      <td>@MeNyrbie @Phil_Gahan @Chrisitv https://t.co/i...</td>\n",
              "      <td>Neutral</td>\n",
              "      <td>2</td>\n",
              "    </tr>\n",
              "    <tr>\n",
              "      <th>1</th>\n",
              "      <td>3800</td>\n",
              "      <td>48752</td>\n",
              "      <td>UK</td>\n",
              "      <td>16-03-2020</td>\n",
              "      <td>advice Talk to your neighbours family to excha...</td>\n",
              "      <td>Positive</td>\n",
              "      <td>3</td>\n",
              "    </tr>\n",
              "    <tr>\n",
              "      <th>2</th>\n",
              "      <td>3801</td>\n",
              "      <td>48753</td>\n",
              "      <td>Vagabonds</td>\n",
              "      <td>16-03-2020</td>\n",
              "      <td>Coronavirus Australia: Woolworths to give elde...</td>\n",
              "      <td>Positive</td>\n",
              "      <td>3</td>\n",
              "    </tr>\n",
              "    <tr>\n",
              "      <th>3</th>\n",
              "      <td>3802</td>\n",
              "      <td>48754</td>\n",
              "      <td>NaN</td>\n",
              "      <td>16-03-2020</td>\n",
              "      <td>My food stock is not the only one which is emp...</td>\n",
              "      <td>Positive</td>\n",
              "      <td>3</td>\n",
              "    </tr>\n",
              "    <tr>\n",
              "      <th>4</th>\n",
              "      <td>3803</td>\n",
              "      <td>48755</td>\n",
              "      <td>NaN</td>\n",
              "      <td>16-03-2020</td>\n",
              "      <td>Me, ready to go at supermarket during the #COV...</td>\n",
              "      <td>Extremely Negative</td>\n",
              "      <td>0</td>\n",
              "    </tr>\n",
              "  </tbody>\n",
              "</table>\n",
              "</div>\n",
              "      <button class=\"colab-df-convert\" onclick=\"convertToInteractive('df-f88bdb2c-bb43-4c52-a4e8-6b259ef886fa')\"\n",
              "              title=\"Convert this dataframe to an interactive table.\"\n",
              "              style=\"display:none;\">\n",
              "        \n",
              "  <svg xmlns=\"http://www.w3.org/2000/svg\" height=\"24px\"viewBox=\"0 0 24 24\"\n",
              "       width=\"24px\">\n",
              "    <path d=\"M0 0h24v24H0V0z\" fill=\"none\"/>\n",
              "    <path d=\"M18.56 5.44l.94 2.06.94-2.06 2.06-.94-2.06-.94-.94-2.06-.94 2.06-2.06.94zm-11 1L8.5 8.5l.94-2.06 2.06-.94-2.06-.94L8.5 2.5l-.94 2.06-2.06.94zm10 10l.94 2.06.94-2.06 2.06-.94-2.06-.94-.94-2.06-.94 2.06-2.06.94z\"/><path d=\"M17.41 7.96l-1.37-1.37c-.4-.4-.92-.59-1.43-.59-.52 0-1.04.2-1.43.59L10.3 9.45l-7.72 7.72c-.78.78-.78 2.05 0 2.83L4 21.41c.39.39.9.59 1.41.59.51 0 1.02-.2 1.41-.59l7.78-7.78 2.81-2.81c.8-.78.8-2.07 0-2.86zM5.41 20L4 18.59l7.72-7.72 1.47 1.35L5.41 20z\"/>\n",
              "  </svg>\n",
              "      </button>\n",
              "      \n",
              "  <style>\n",
              "    .colab-df-container {\n",
              "      display:flex;\n",
              "      flex-wrap:wrap;\n",
              "      gap: 12px;\n",
              "    }\n",
              "\n",
              "    .colab-df-convert {\n",
              "      background-color: #E8F0FE;\n",
              "      border: none;\n",
              "      border-radius: 50%;\n",
              "      cursor: pointer;\n",
              "      display: none;\n",
              "      fill: #1967D2;\n",
              "      height: 32px;\n",
              "      padding: 0 0 0 0;\n",
              "      width: 32px;\n",
              "    }\n",
              "\n",
              "    .colab-df-convert:hover {\n",
              "      background-color: #E2EBFA;\n",
              "      box-shadow: 0px 1px 2px rgba(60, 64, 67, 0.3), 0px 1px 3px 1px rgba(60, 64, 67, 0.15);\n",
              "      fill: #174EA6;\n",
              "    }\n",
              "\n",
              "    [theme=dark] .colab-df-convert {\n",
              "      background-color: #3B4455;\n",
              "      fill: #D2E3FC;\n",
              "    }\n",
              "\n",
              "    [theme=dark] .colab-df-convert:hover {\n",
              "      background-color: #434B5C;\n",
              "      box-shadow: 0px 1px 3px 1px rgba(0, 0, 0, 0.15);\n",
              "      filter: drop-shadow(0px 1px 2px rgba(0, 0, 0, 0.3));\n",
              "      fill: #FFFFFF;\n",
              "    }\n",
              "  </style>\n",
              "\n",
              "      <script>\n",
              "        const buttonEl =\n",
              "          document.querySelector('#df-f88bdb2c-bb43-4c52-a4e8-6b259ef886fa button.colab-df-convert');\n",
              "        buttonEl.style.display =\n",
              "          google.colab.kernel.accessAllowed ? 'block' : 'none';\n",
              "\n",
              "        async function convertToInteractive(key) {\n",
              "          const element = document.querySelector('#df-f88bdb2c-bb43-4c52-a4e8-6b259ef886fa');\n",
              "          const dataTable =\n",
              "            await google.colab.kernel.invokeFunction('convertToInteractive',\n",
              "                                                     [key], {});\n",
              "          if (!dataTable) return;\n",
              "\n",
              "          const docLinkHtml = 'Like what you see? Visit the ' +\n",
              "            '<a target=\"_blank\" href=https://colab.research.google.com/notebooks/data_table.ipynb>data table notebook</a>'\n",
              "            + ' to learn more about interactive tables.';\n",
              "          element.innerHTML = '';\n",
              "          dataTable['output_type'] = 'display_data';\n",
              "          await google.colab.output.renderOutput(dataTable, element);\n",
              "          const docLink = document.createElement('div');\n",
              "          docLink.innerHTML = docLinkHtml;\n",
              "          element.appendChild(docLink);\n",
              "        }\n",
              "      </script>\n",
              "    </div>\n",
              "  </div>\n",
              "  "
            ]
          },
          "metadata": {},
          "execution_count": 37
        }
      ]
    },
    {
      "cell_type": "markdown",
      "source": [
        "#### Dropping column irrelevant to the analysis"
      ],
      "metadata": {
        "id": "5o8Gll100_rt"
      }
    },
    {
      "cell_type": "code",
      "source": [
        "train_data = train_data.drop(['UserName','ScreenName','Location','TweetAt','Sentiment'], axis = 1)\n",
        "test_data = test_data.drop(['UserName','ScreenName','Location','TweetAt','Sentiment'], axis = 1)"
      ],
      "metadata": {
        "id": "bUvtBgTU0N9p"
      },
      "execution_count": 38,
      "outputs": []
    },
    {
      "cell_type": "code",
      "source": [
        "train_data.head()"
      ],
      "metadata": {
        "colab": {
          "base_uri": "https://localhost:8080/",
          "height": 206
        },
        "id": "B6kG1MY_xdAi",
        "outputId": "2bfa9be2-cffe-4910-c28f-8806887c5464"
      },
      "execution_count": 39,
      "outputs": [
        {
          "output_type": "execute_result",
          "data": {
            "text/plain": [
              "                                       OriginalTweet  Target_class\n",
              "0  @MeNyrbie @Phil_Gahan @Chrisitv https://t.co/i...             2\n",
              "1  advice Talk to your neighbours family to excha...             3\n",
              "2  Coronavirus Australia: Woolworths to give elde...             3\n",
              "3  My food stock is not the only one which is emp...             3\n",
              "4  Me, ready to go at supermarket during the #COV...             0"
            ],
            "text/html": [
              "\n",
              "  <div id=\"df-a73171cd-6da4-4b42-b890-1613447ce3c2\">\n",
              "    <div class=\"colab-df-container\">\n",
              "      <div>\n",
              "<style scoped>\n",
              "    .dataframe tbody tr th:only-of-type {\n",
              "        vertical-align: middle;\n",
              "    }\n",
              "\n",
              "    .dataframe tbody tr th {\n",
              "        vertical-align: top;\n",
              "    }\n",
              "\n",
              "    .dataframe thead th {\n",
              "        text-align: right;\n",
              "    }\n",
              "</style>\n",
              "<table border=\"1\" class=\"dataframe\">\n",
              "  <thead>\n",
              "    <tr style=\"text-align: right;\">\n",
              "      <th></th>\n",
              "      <th>OriginalTweet</th>\n",
              "      <th>Target_class</th>\n",
              "    </tr>\n",
              "  </thead>\n",
              "  <tbody>\n",
              "    <tr>\n",
              "      <th>0</th>\n",
              "      <td>@MeNyrbie @Phil_Gahan @Chrisitv https://t.co/i...</td>\n",
              "      <td>2</td>\n",
              "    </tr>\n",
              "    <tr>\n",
              "      <th>1</th>\n",
              "      <td>advice Talk to your neighbours family to excha...</td>\n",
              "      <td>3</td>\n",
              "    </tr>\n",
              "    <tr>\n",
              "      <th>2</th>\n",
              "      <td>Coronavirus Australia: Woolworths to give elde...</td>\n",
              "      <td>3</td>\n",
              "    </tr>\n",
              "    <tr>\n",
              "      <th>3</th>\n",
              "      <td>My food stock is not the only one which is emp...</td>\n",
              "      <td>3</td>\n",
              "    </tr>\n",
              "    <tr>\n",
              "      <th>4</th>\n",
              "      <td>Me, ready to go at supermarket during the #COV...</td>\n",
              "      <td>0</td>\n",
              "    </tr>\n",
              "  </tbody>\n",
              "</table>\n",
              "</div>\n",
              "      <button class=\"colab-df-convert\" onclick=\"convertToInteractive('df-a73171cd-6da4-4b42-b890-1613447ce3c2')\"\n",
              "              title=\"Convert this dataframe to an interactive table.\"\n",
              "              style=\"display:none;\">\n",
              "        \n",
              "  <svg xmlns=\"http://www.w3.org/2000/svg\" height=\"24px\"viewBox=\"0 0 24 24\"\n",
              "       width=\"24px\">\n",
              "    <path d=\"M0 0h24v24H0V0z\" fill=\"none\"/>\n",
              "    <path d=\"M18.56 5.44l.94 2.06.94-2.06 2.06-.94-2.06-.94-.94-2.06-.94 2.06-2.06.94zm-11 1L8.5 8.5l.94-2.06 2.06-.94-2.06-.94L8.5 2.5l-.94 2.06-2.06.94zm10 10l.94 2.06.94-2.06 2.06-.94-2.06-.94-.94-2.06-.94 2.06-2.06.94z\"/><path d=\"M17.41 7.96l-1.37-1.37c-.4-.4-.92-.59-1.43-.59-.52 0-1.04.2-1.43.59L10.3 9.45l-7.72 7.72c-.78.78-.78 2.05 0 2.83L4 21.41c.39.39.9.59 1.41.59.51 0 1.02-.2 1.41-.59l7.78-7.78 2.81-2.81c.8-.78.8-2.07 0-2.86zM5.41 20L4 18.59l7.72-7.72 1.47 1.35L5.41 20z\"/>\n",
              "  </svg>\n",
              "      </button>\n",
              "      \n",
              "  <style>\n",
              "    .colab-df-container {\n",
              "      display:flex;\n",
              "      flex-wrap:wrap;\n",
              "      gap: 12px;\n",
              "    }\n",
              "\n",
              "    .colab-df-convert {\n",
              "      background-color: #E8F0FE;\n",
              "      border: none;\n",
              "      border-radius: 50%;\n",
              "      cursor: pointer;\n",
              "      display: none;\n",
              "      fill: #1967D2;\n",
              "      height: 32px;\n",
              "      padding: 0 0 0 0;\n",
              "      width: 32px;\n",
              "    }\n",
              "\n",
              "    .colab-df-convert:hover {\n",
              "      background-color: #E2EBFA;\n",
              "      box-shadow: 0px 1px 2px rgba(60, 64, 67, 0.3), 0px 1px 3px 1px rgba(60, 64, 67, 0.15);\n",
              "      fill: #174EA6;\n",
              "    }\n",
              "\n",
              "    [theme=dark] .colab-df-convert {\n",
              "      background-color: #3B4455;\n",
              "      fill: #D2E3FC;\n",
              "    }\n",
              "\n",
              "    [theme=dark] .colab-df-convert:hover {\n",
              "      background-color: #434B5C;\n",
              "      box-shadow: 0px 1px 3px 1px rgba(0, 0, 0, 0.15);\n",
              "      filter: drop-shadow(0px 1px 2px rgba(0, 0, 0, 0.3));\n",
              "      fill: #FFFFFF;\n",
              "    }\n",
              "  </style>\n",
              "\n",
              "      <script>\n",
              "        const buttonEl =\n",
              "          document.querySelector('#df-a73171cd-6da4-4b42-b890-1613447ce3c2 button.colab-df-convert');\n",
              "        buttonEl.style.display =\n",
              "          google.colab.kernel.accessAllowed ? 'block' : 'none';\n",
              "\n",
              "        async function convertToInteractive(key) {\n",
              "          const element = document.querySelector('#df-a73171cd-6da4-4b42-b890-1613447ce3c2');\n",
              "          const dataTable =\n",
              "            await google.colab.kernel.invokeFunction('convertToInteractive',\n",
              "                                                     [key], {});\n",
              "          if (!dataTable) return;\n",
              "\n",
              "          const docLinkHtml = 'Like what you see? Visit the ' +\n",
              "            '<a target=\"_blank\" href=https://colab.research.google.com/notebooks/data_table.ipynb>data table notebook</a>'\n",
              "            + ' to learn more about interactive tables.';\n",
              "          element.innerHTML = '';\n",
              "          dataTable['output_type'] = 'display_data';\n",
              "          await google.colab.output.renderOutput(dataTable, element);\n",
              "          const docLink = document.createElement('div');\n",
              "          docLink.innerHTML = docLinkHtml;\n",
              "          element.appendChild(docLink);\n",
              "        }\n",
              "      </script>\n",
              "    </div>\n",
              "  </div>\n",
              "  "
            ]
          },
          "metadata": {},
          "execution_count": 39
        }
      ]
    },
    {
      "cell_type": "markdown",
      "source": [
        "####  Preprocessing \n",
        "\n",
        "*   Converting all tweet text to lower case for uniformity\n",
        "*   Removing Stopwords\n",
        "*   Count unique words to get vocabulary. "
      ],
      "metadata": {
        "id": "HTPimplBwoaJ"
      }
    },
    {
      "cell_type": "code",
      "source": [
        "nltk.download('stopwords')\n",
        "stop = set(stopwords.words(\"english\"))"
      ],
      "metadata": {
        "id": "-QRdk5aK255_",
        "colab": {
          "base_uri": "https://localhost:8080/"
        },
        "outputId": "0a0f5e18-1649-429b-90c6-f052dce8c0d1"
      },
      "execution_count": 40,
      "outputs": [
        {
          "output_type": "stream",
          "name": "stdout",
          "text": [
            "[nltk_data] Downloading package stopwords to /root/nltk_data...\n",
            "[nltk_data]   Package stopwords is already up-to-date!\n"
          ]
        }
      ]
    },
    {
      "cell_type": "code",
      "source": [
        "def remove_stopwords(text):\n",
        "    filtered_words = [word.lower() for word in text.split() if word.lower() not in stop]\n",
        "    return \" \".join(filtered_words)"
      ],
      "metadata": {
        "id": "n7poDT-YYmmA"
      },
      "execution_count": 41,
      "outputs": []
    },
    {
      "cell_type": "code",
      "source": [
        "train_data['raw_text']=  train_data.OriginalTweet.map(remove_stopwords)\n",
        "test_data['raw_text']= test_data.OriginalTweet.map(remove_stopwords) "
      ],
      "metadata": {
        "id": "8foV-EeczYdm"
      },
      "execution_count": 42,
      "outputs": []
    },
    {
      "cell_type": "code",
      "source": [
        "train_data.head()"
      ],
      "metadata": {
        "colab": {
          "base_uri": "https://localhost:8080/",
          "height": 206
        },
        "id": "orccwskH1_lL",
        "outputId": "a1c0eb75-6473-4abc-d463-9503686c4e1c"
      },
      "execution_count": 43,
      "outputs": [
        {
          "output_type": "execute_result",
          "data": {
            "text/plain": [
              "                                       OriginalTweet  Target_class  \\\n",
              "0  @MeNyrbie @Phil_Gahan @Chrisitv https://t.co/i...             2   \n",
              "1  advice Talk to your neighbours family to excha...             3   \n",
              "2  Coronavirus Australia: Woolworths to give elde...             3   \n",
              "3  My food stock is not the only one which is emp...             3   \n",
              "4  Me, ready to go at supermarket during the #COV...             0   \n",
              "\n",
              "                                            raw_text  \n",
              "0  @menyrbie @phil_gahan @chrisitv https://t.co/i...  \n",
              "1  advice talk neighbours family exchange phone n...  \n",
              "2  coronavirus australia: woolworths give elderly...  \n",
              "3  food stock one empty... please, panic, enough ...  \n",
              "4  me, ready go supermarket #covid19 outbreak. i'...  "
            ],
            "text/html": [
              "\n",
              "  <div id=\"df-d5418daf-e923-4bd2-8f74-f85f82e98c81\">\n",
              "    <div class=\"colab-df-container\">\n",
              "      <div>\n",
              "<style scoped>\n",
              "    .dataframe tbody tr th:only-of-type {\n",
              "        vertical-align: middle;\n",
              "    }\n",
              "\n",
              "    .dataframe tbody tr th {\n",
              "        vertical-align: top;\n",
              "    }\n",
              "\n",
              "    .dataframe thead th {\n",
              "        text-align: right;\n",
              "    }\n",
              "</style>\n",
              "<table border=\"1\" class=\"dataframe\">\n",
              "  <thead>\n",
              "    <tr style=\"text-align: right;\">\n",
              "      <th></th>\n",
              "      <th>OriginalTweet</th>\n",
              "      <th>Target_class</th>\n",
              "      <th>raw_text</th>\n",
              "    </tr>\n",
              "  </thead>\n",
              "  <tbody>\n",
              "    <tr>\n",
              "      <th>0</th>\n",
              "      <td>@MeNyrbie @Phil_Gahan @Chrisitv https://t.co/i...</td>\n",
              "      <td>2</td>\n",
              "      <td>@menyrbie @phil_gahan @chrisitv https://t.co/i...</td>\n",
              "    </tr>\n",
              "    <tr>\n",
              "      <th>1</th>\n",
              "      <td>advice Talk to your neighbours family to excha...</td>\n",
              "      <td>3</td>\n",
              "      <td>advice talk neighbours family exchange phone n...</td>\n",
              "    </tr>\n",
              "    <tr>\n",
              "      <th>2</th>\n",
              "      <td>Coronavirus Australia: Woolworths to give elde...</td>\n",
              "      <td>3</td>\n",
              "      <td>coronavirus australia: woolworths give elderly...</td>\n",
              "    </tr>\n",
              "    <tr>\n",
              "      <th>3</th>\n",
              "      <td>My food stock is not the only one which is emp...</td>\n",
              "      <td>3</td>\n",
              "      <td>food stock one empty... please, panic, enough ...</td>\n",
              "    </tr>\n",
              "    <tr>\n",
              "      <th>4</th>\n",
              "      <td>Me, ready to go at supermarket during the #COV...</td>\n",
              "      <td>0</td>\n",
              "      <td>me, ready go supermarket #covid19 outbreak. i'...</td>\n",
              "    </tr>\n",
              "  </tbody>\n",
              "</table>\n",
              "</div>\n",
              "      <button class=\"colab-df-convert\" onclick=\"convertToInteractive('df-d5418daf-e923-4bd2-8f74-f85f82e98c81')\"\n",
              "              title=\"Convert this dataframe to an interactive table.\"\n",
              "              style=\"display:none;\">\n",
              "        \n",
              "  <svg xmlns=\"http://www.w3.org/2000/svg\" height=\"24px\"viewBox=\"0 0 24 24\"\n",
              "       width=\"24px\">\n",
              "    <path d=\"M0 0h24v24H0V0z\" fill=\"none\"/>\n",
              "    <path d=\"M18.56 5.44l.94 2.06.94-2.06 2.06-.94-2.06-.94-.94-2.06-.94 2.06-2.06.94zm-11 1L8.5 8.5l.94-2.06 2.06-.94-2.06-.94L8.5 2.5l-.94 2.06-2.06.94zm10 10l.94 2.06.94-2.06 2.06-.94-2.06-.94-.94-2.06-.94 2.06-2.06.94z\"/><path d=\"M17.41 7.96l-1.37-1.37c-.4-.4-.92-.59-1.43-.59-.52 0-1.04.2-1.43.59L10.3 9.45l-7.72 7.72c-.78.78-.78 2.05 0 2.83L4 21.41c.39.39.9.59 1.41.59.51 0 1.02-.2 1.41-.59l7.78-7.78 2.81-2.81c.8-.78.8-2.07 0-2.86zM5.41 20L4 18.59l7.72-7.72 1.47 1.35L5.41 20z\"/>\n",
              "  </svg>\n",
              "      </button>\n",
              "      \n",
              "  <style>\n",
              "    .colab-df-container {\n",
              "      display:flex;\n",
              "      flex-wrap:wrap;\n",
              "      gap: 12px;\n",
              "    }\n",
              "\n",
              "    .colab-df-convert {\n",
              "      background-color: #E8F0FE;\n",
              "      border: none;\n",
              "      border-radius: 50%;\n",
              "      cursor: pointer;\n",
              "      display: none;\n",
              "      fill: #1967D2;\n",
              "      height: 32px;\n",
              "      padding: 0 0 0 0;\n",
              "      width: 32px;\n",
              "    }\n",
              "\n",
              "    .colab-df-convert:hover {\n",
              "      background-color: #E2EBFA;\n",
              "      box-shadow: 0px 1px 2px rgba(60, 64, 67, 0.3), 0px 1px 3px 1px rgba(60, 64, 67, 0.15);\n",
              "      fill: #174EA6;\n",
              "    }\n",
              "\n",
              "    [theme=dark] .colab-df-convert {\n",
              "      background-color: #3B4455;\n",
              "      fill: #D2E3FC;\n",
              "    }\n",
              "\n",
              "    [theme=dark] .colab-df-convert:hover {\n",
              "      background-color: #434B5C;\n",
              "      box-shadow: 0px 1px 3px 1px rgba(0, 0, 0, 0.15);\n",
              "      filter: drop-shadow(0px 1px 2px rgba(0, 0, 0, 0.3));\n",
              "      fill: #FFFFFF;\n",
              "    }\n",
              "  </style>\n",
              "\n",
              "      <script>\n",
              "        const buttonEl =\n",
              "          document.querySelector('#df-d5418daf-e923-4bd2-8f74-f85f82e98c81 button.colab-df-convert');\n",
              "        buttonEl.style.display =\n",
              "          google.colab.kernel.accessAllowed ? 'block' : 'none';\n",
              "\n",
              "        async function convertToInteractive(key) {\n",
              "          const element = document.querySelector('#df-d5418daf-e923-4bd2-8f74-f85f82e98c81');\n",
              "          const dataTable =\n",
              "            await google.colab.kernel.invokeFunction('convertToInteractive',\n",
              "                                                     [key], {});\n",
              "          if (!dataTable) return;\n",
              "\n",
              "          const docLinkHtml = 'Like what you see? Visit the ' +\n",
              "            '<a target=\"_blank\" href=https://colab.research.google.com/notebooks/data_table.ipynb>data table notebook</a>'\n",
              "            + ' to learn more about interactive tables.';\n",
              "          element.innerHTML = '';\n",
              "          dataTable['output_type'] = 'display_data';\n",
              "          await google.colab.output.renderOutput(dataTable, element);\n",
              "          const docLink = document.createElement('div');\n",
              "          docLink.innerHTML = docLinkHtml;\n",
              "          element.appendChild(docLink);\n",
              "        }\n",
              "      </script>\n",
              "    </div>\n",
              "  </div>\n",
              "  "
            ]
          },
          "metadata": {},
          "execution_count": 43
        }
      ]
    },
    {
      "cell_type": "markdown",
      "source": [
        "Removing special symbols\n",
        "\n"
      ],
      "metadata": {
        "id": "l21B1d5U0YnM"
      }
    },
    {
      "cell_type": "code",
      "source": [
        "train_data['raw_text'] = train_data['raw_text'].map(lambda x: re.sub(r\"[^a-zA-Z0-9]+\", ' ', x))\n",
        "test_data['raw_text'] = test_data['raw_text'].map(lambda x: re.sub(r\"[^a-zA-Z0-9]+\", ' ', x))"
      ],
      "metadata": {
        "id": "Y0159TJ8KXuh"
      },
      "execution_count": 45,
      "outputs": []
    },
    {
      "cell_type": "code",
      "source": [
        "train_data.head()"
      ],
      "metadata": {
        "colab": {
          "base_uri": "https://localhost:8080/",
          "height": 206
        },
        "id": "SHqAo6d7ZB_U",
        "outputId": "b6a55201-53ac-4825-fb5d-cbb823f6a3b6"
      },
      "execution_count": 46,
      "outputs": [
        {
          "output_type": "execute_result",
          "data": {
            "text/plain": [
              "                                       OriginalTweet  Target_class  \\\n",
              "0  @MeNyrbie @Phil_Gahan @Chrisitv https://t.co/i...             2   \n",
              "1  advice Talk to your neighbours family to excha...             3   \n",
              "2  Coronavirus Australia: Woolworths to give elde...             3   \n",
              "3  My food stock is not the only one which is emp...             3   \n",
              "4  Me, ready to go at supermarket during the #COV...             0   \n",
              "\n",
              "                                            raw_text  \n",
              "0   menyrbie phil gahan chrisitv https t co ifz9f...  \n",
              "1  advice talk neighbours family exchange phone n...  \n",
              "2  coronavirus australia woolworths give elderly ...  \n",
              "3  food stock one empty please panic enough food ...  \n",
              "4  me ready go supermarket covid19 outbreak i m p...  "
            ],
            "text/html": [
              "\n",
              "  <div id=\"df-364c7445-96b0-4a2f-9f09-7756966a79af\">\n",
              "    <div class=\"colab-df-container\">\n",
              "      <div>\n",
              "<style scoped>\n",
              "    .dataframe tbody tr th:only-of-type {\n",
              "        vertical-align: middle;\n",
              "    }\n",
              "\n",
              "    .dataframe tbody tr th {\n",
              "        vertical-align: top;\n",
              "    }\n",
              "\n",
              "    .dataframe thead th {\n",
              "        text-align: right;\n",
              "    }\n",
              "</style>\n",
              "<table border=\"1\" class=\"dataframe\">\n",
              "  <thead>\n",
              "    <tr style=\"text-align: right;\">\n",
              "      <th></th>\n",
              "      <th>OriginalTweet</th>\n",
              "      <th>Target_class</th>\n",
              "      <th>raw_text</th>\n",
              "    </tr>\n",
              "  </thead>\n",
              "  <tbody>\n",
              "    <tr>\n",
              "      <th>0</th>\n",
              "      <td>@MeNyrbie @Phil_Gahan @Chrisitv https://t.co/i...</td>\n",
              "      <td>2</td>\n",
              "      <td>menyrbie phil gahan chrisitv https t co ifz9f...</td>\n",
              "    </tr>\n",
              "    <tr>\n",
              "      <th>1</th>\n",
              "      <td>advice Talk to your neighbours family to excha...</td>\n",
              "      <td>3</td>\n",
              "      <td>advice talk neighbours family exchange phone n...</td>\n",
              "    </tr>\n",
              "    <tr>\n",
              "      <th>2</th>\n",
              "      <td>Coronavirus Australia: Woolworths to give elde...</td>\n",
              "      <td>3</td>\n",
              "      <td>coronavirus australia woolworths give elderly ...</td>\n",
              "    </tr>\n",
              "    <tr>\n",
              "      <th>3</th>\n",
              "      <td>My food stock is not the only one which is emp...</td>\n",
              "      <td>3</td>\n",
              "      <td>food stock one empty please panic enough food ...</td>\n",
              "    </tr>\n",
              "    <tr>\n",
              "      <th>4</th>\n",
              "      <td>Me, ready to go at supermarket during the #COV...</td>\n",
              "      <td>0</td>\n",
              "      <td>me ready go supermarket covid19 outbreak i m p...</td>\n",
              "    </tr>\n",
              "  </tbody>\n",
              "</table>\n",
              "</div>\n",
              "      <button class=\"colab-df-convert\" onclick=\"convertToInteractive('df-364c7445-96b0-4a2f-9f09-7756966a79af')\"\n",
              "              title=\"Convert this dataframe to an interactive table.\"\n",
              "              style=\"display:none;\">\n",
              "        \n",
              "  <svg xmlns=\"http://www.w3.org/2000/svg\" height=\"24px\"viewBox=\"0 0 24 24\"\n",
              "       width=\"24px\">\n",
              "    <path d=\"M0 0h24v24H0V0z\" fill=\"none\"/>\n",
              "    <path d=\"M18.56 5.44l.94 2.06.94-2.06 2.06-.94-2.06-.94-.94-2.06-.94 2.06-2.06.94zm-11 1L8.5 8.5l.94-2.06 2.06-.94-2.06-.94L8.5 2.5l-.94 2.06-2.06.94zm10 10l.94 2.06.94-2.06 2.06-.94-2.06-.94-.94-2.06-.94 2.06-2.06.94z\"/><path d=\"M17.41 7.96l-1.37-1.37c-.4-.4-.92-.59-1.43-.59-.52 0-1.04.2-1.43.59L10.3 9.45l-7.72 7.72c-.78.78-.78 2.05 0 2.83L4 21.41c.39.39.9.59 1.41.59.51 0 1.02-.2 1.41-.59l7.78-7.78 2.81-2.81c.8-.78.8-2.07 0-2.86zM5.41 20L4 18.59l7.72-7.72 1.47 1.35L5.41 20z\"/>\n",
              "  </svg>\n",
              "      </button>\n",
              "      \n",
              "  <style>\n",
              "    .colab-df-container {\n",
              "      display:flex;\n",
              "      flex-wrap:wrap;\n",
              "      gap: 12px;\n",
              "    }\n",
              "\n",
              "    .colab-df-convert {\n",
              "      background-color: #E8F0FE;\n",
              "      border: none;\n",
              "      border-radius: 50%;\n",
              "      cursor: pointer;\n",
              "      display: none;\n",
              "      fill: #1967D2;\n",
              "      height: 32px;\n",
              "      padding: 0 0 0 0;\n",
              "      width: 32px;\n",
              "    }\n",
              "\n",
              "    .colab-df-convert:hover {\n",
              "      background-color: #E2EBFA;\n",
              "      box-shadow: 0px 1px 2px rgba(60, 64, 67, 0.3), 0px 1px 3px 1px rgba(60, 64, 67, 0.15);\n",
              "      fill: #174EA6;\n",
              "    }\n",
              "\n",
              "    [theme=dark] .colab-df-convert {\n",
              "      background-color: #3B4455;\n",
              "      fill: #D2E3FC;\n",
              "    }\n",
              "\n",
              "    [theme=dark] .colab-df-convert:hover {\n",
              "      background-color: #434B5C;\n",
              "      box-shadow: 0px 1px 3px 1px rgba(0, 0, 0, 0.15);\n",
              "      filter: drop-shadow(0px 1px 2px rgba(0, 0, 0, 0.3));\n",
              "      fill: #FFFFFF;\n",
              "    }\n",
              "  </style>\n",
              "\n",
              "      <script>\n",
              "        const buttonEl =\n",
              "          document.querySelector('#df-364c7445-96b0-4a2f-9f09-7756966a79af button.colab-df-convert');\n",
              "        buttonEl.style.display =\n",
              "          google.colab.kernel.accessAllowed ? 'block' : 'none';\n",
              "\n",
              "        async function convertToInteractive(key) {\n",
              "          const element = document.querySelector('#df-364c7445-96b0-4a2f-9f09-7756966a79af');\n",
              "          const dataTable =\n",
              "            await google.colab.kernel.invokeFunction('convertToInteractive',\n",
              "                                                     [key], {});\n",
              "          if (!dataTable) return;\n",
              "\n",
              "          const docLinkHtml = 'Like what you see? Visit the ' +\n",
              "            '<a target=\"_blank\" href=https://colab.research.google.com/notebooks/data_table.ipynb>data table notebook</a>'\n",
              "            + ' to learn more about interactive tables.';\n",
              "          element.innerHTML = '';\n",
              "          dataTable['output_type'] = 'display_data';\n",
              "          await google.colab.output.renderOutput(dataTable, element);\n",
              "          const docLink = document.createElement('div');\n",
              "          docLink.innerHTML = docLinkHtml;\n",
              "          element.appendChild(docLink);\n",
              "        }\n",
              "      </script>\n",
              "    </div>\n",
              "  </div>\n",
              "  "
            ]
          },
          "metadata": {},
          "execution_count": 46
        }
      ]
    },
    {
      "cell_type": "markdown",
      "source": [
        "#### Getting Vocabulary"
      ],
      "metadata": {
        "id": "f8s8QP9Z1MfD"
      }
    },
    {
      "cell_type": "code",
      "source": [
        "def counter_word(text_col):\n",
        "    count = Counter()\n",
        "    for text in text_col.values:\n",
        "        for word in text.split():\n",
        "            count[word] += 1\n",
        "    return count"
      ],
      "metadata": {
        "id": "DOa0rg1syIcy"
      },
      "execution_count": 47,
      "outputs": []
    },
    {
      "cell_type": "code",
      "execution_count": 48,
      "metadata": {
        "id": "GKe-FN-jc9Wx"
      },
      "outputs": [],
      "source": [
        "train_counter = counter_word(train_data.raw_text)\n",
        "test_counter = counter_word(test_data.raw_text)"
      ]
    },
    {
      "cell_type": "code",
      "source": [
        "train_vocab = len(train_counter)\n",
        "test_vocab = len(test_counter)\n",
        "\n",
        "print('Training Vocabulary %s'% len(train_counter))\n",
        "print('Test Vocabulary %s'% len(test_counter))"
      ],
      "metadata": {
        "id": "CfCHcCHS3VFz",
        "colab": {
          "base_uri": "https://localhost:8080/"
        },
        "outputId": "924e5b4c-6f90-43f7-e277-1a688221fb51"
      },
      "execution_count": 49,
      "outputs": [
        {
          "output_type": "stream",
          "name": "stdout",
          "text": [
            "Training Vocabulary 78583\n",
            "Test Vocabulary 13720\n"
          ]
        }
      ]
    },
    {
      "cell_type": "markdown",
      "source": [
        "Getting sentences "
      ],
      "metadata": {
        "id": "H05-9aj00fVq"
      }
    },
    {
      "cell_type": "code",
      "source": [
        "train_data['train_sentences'] = train_data.raw_text.to_numpy()\n",
        "test_data['test_sentences'] = test_data.raw_text.to_numpy()"
      ],
      "metadata": {
        "id": "79MQVKOA0efd"
      },
      "execution_count": 50,
      "outputs": []
    },
    {
      "cell_type": "code",
      "source": [
        "train_data['train_sentences'].shape, test_data['test_sentences'].shape"
      ],
      "metadata": {
        "id": "v2N9uyNZK0MQ",
        "colab": {
          "base_uri": "https://localhost:8080/"
        },
        "outputId": "440953e6-9eea-4846-eb65-21b32cbcf619"
      },
      "execution_count": 51,
      "outputs": [
        {
          "output_type": "execute_result",
          "data": {
            "text/plain": [
              "((41157,), (3798,))"
            ]
          },
          "metadata": {},
          "execution_count": 51
        }
      ]
    },
    {
      "cell_type": "code",
      "source": [
        "train_data.head()"
      ],
      "metadata": {
        "colab": {
          "base_uri": "https://localhost:8080/",
          "height": 285
        },
        "id": "d5K75UQJ2Hlh",
        "outputId": "34841253-55fa-4302-ae66-35a94373f982"
      },
      "execution_count": 52,
      "outputs": [
        {
          "output_type": "execute_result",
          "data": {
            "text/plain": [
              "                                       OriginalTweet  Target_class  \\\n",
              "0  @MeNyrbie @Phil_Gahan @Chrisitv https://t.co/i...             2   \n",
              "1  advice Talk to your neighbours family to excha...             3   \n",
              "2  Coronavirus Australia: Woolworths to give elde...             3   \n",
              "3  My food stock is not the only one which is emp...             3   \n",
              "4  Me, ready to go at supermarket during the #COV...             0   \n",
              "\n",
              "                                            raw_text  \\\n",
              "0   menyrbie phil gahan chrisitv https t co ifz9f...   \n",
              "1  advice talk neighbours family exchange phone n...   \n",
              "2  coronavirus australia woolworths give elderly ...   \n",
              "3  food stock one empty please panic enough food ...   \n",
              "4  me ready go supermarket covid19 outbreak i m p...   \n",
              "\n",
              "                                     train_sentences  \n",
              "0   menyrbie phil gahan chrisitv https t co ifz9f...  \n",
              "1  advice talk neighbours family exchange phone n...  \n",
              "2  coronavirus australia woolworths give elderly ...  \n",
              "3  food stock one empty please panic enough food ...  \n",
              "4  me ready go supermarket covid19 outbreak i m p...  "
            ],
            "text/html": [
              "\n",
              "  <div id=\"df-11a01007-c167-4411-ba9b-c402e5a56360\">\n",
              "    <div class=\"colab-df-container\">\n",
              "      <div>\n",
              "<style scoped>\n",
              "    .dataframe tbody tr th:only-of-type {\n",
              "        vertical-align: middle;\n",
              "    }\n",
              "\n",
              "    .dataframe tbody tr th {\n",
              "        vertical-align: top;\n",
              "    }\n",
              "\n",
              "    .dataframe thead th {\n",
              "        text-align: right;\n",
              "    }\n",
              "</style>\n",
              "<table border=\"1\" class=\"dataframe\">\n",
              "  <thead>\n",
              "    <tr style=\"text-align: right;\">\n",
              "      <th></th>\n",
              "      <th>OriginalTweet</th>\n",
              "      <th>Target_class</th>\n",
              "      <th>raw_text</th>\n",
              "      <th>train_sentences</th>\n",
              "    </tr>\n",
              "  </thead>\n",
              "  <tbody>\n",
              "    <tr>\n",
              "      <th>0</th>\n",
              "      <td>@MeNyrbie @Phil_Gahan @Chrisitv https://t.co/i...</td>\n",
              "      <td>2</td>\n",
              "      <td>menyrbie phil gahan chrisitv https t co ifz9f...</td>\n",
              "      <td>menyrbie phil gahan chrisitv https t co ifz9f...</td>\n",
              "    </tr>\n",
              "    <tr>\n",
              "      <th>1</th>\n",
              "      <td>advice Talk to your neighbours family to excha...</td>\n",
              "      <td>3</td>\n",
              "      <td>advice talk neighbours family exchange phone n...</td>\n",
              "      <td>advice talk neighbours family exchange phone n...</td>\n",
              "    </tr>\n",
              "    <tr>\n",
              "      <th>2</th>\n",
              "      <td>Coronavirus Australia: Woolworths to give elde...</td>\n",
              "      <td>3</td>\n",
              "      <td>coronavirus australia woolworths give elderly ...</td>\n",
              "      <td>coronavirus australia woolworths give elderly ...</td>\n",
              "    </tr>\n",
              "    <tr>\n",
              "      <th>3</th>\n",
              "      <td>My food stock is not the only one which is emp...</td>\n",
              "      <td>3</td>\n",
              "      <td>food stock one empty please panic enough food ...</td>\n",
              "      <td>food stock one empty please panic enough food ...</td>\n",
              "    </tr>\n",
              "    <tr>\n",
              "      <th>4</th>\n",
              "      <td>Me, ready to go at supermarket during the #COV...</td>\n",
              "      <td>0</td>\n",
              "      <td>me ready go supermarket covid19 outbreak i m p...</td>\n",
              "      <td>me ready go supermarket covid19 outbreak i m p...</td>\n",
              "    </tr>\n",
              "  </tbody>\n",
              "</table>\n",
              "</div>\n",
              "      <button class=\"colab-df-convert\" onclick=\"convertToInteractive('df-11a01007-c167-4411-ba9b-c402e5a56360')\"\n",
              "              title=\"Convert this dataframe to an interactive table.\"\n",
              "              style=\"display:none;\">\n",
              "        \n",
              "  <svg xmlns=\"http://www.w3.org/2000/svg\" height=\"24px\"viewBox=\"0 0 24 24\"\n",
              "       width=\"24px\">\n",
              "    <path d=\"M0 0h24v24H0V0z\" fill=\"none\"/>\n",
              "    <path d=\"M18.56 5.44l.94 2.06.94-2.06 2.06-.94-2.06-.94-.94-2.06-.94 2.06-2.06.94zm-11 1L8.5 8.5l.94-2.06 2.06-.94-2.06-.94L8.5 2.5l-.94 2.06-2.06.94zm10 10l.94 2.06.94-2.06 2.06-.94-2.06-.94-.94-2.06-.94 2.06-2.06.94z\"/><path d=\"M17.41 7.96l-1.37-1.37c-.4-.4-.92-.59-1.43-.59-.52 0-1.04.2-1.43.59L10.3 9.45l-7.72 7.72c-.78.78-.78 2.05 0 2.83L4 21.41c.39.39.9.59 1.41.59.51 0 1.02-.2 1.41-.59l7.78-7.78 2.81-2.81c.8-.78.8-2.07 0-2.86zM5.41 20L4 18.59l7.72-7.72 1.47 1.35L5.41 20z\"/>\n",
              "  </svg>\n",
              "      </button>\n",
              "      \n",
              "  <style>\n",
              "    .colab-df-container {\n",
              "      display:flex;\n",
              "      flex-wrap:wrap;\n",
              "      gap: 12px;\n",
              "    }\n",
              "\n",
              "    .colab-df-convert {\n",
              "      background-color: #E8F0FE;\n",
              "      border: none;\n",
              "      border-radius: 50%;\n",
              "      cursor: pointer;\n",
              "      display: none;\n",
              "      fill: #1967D2;\n",
              "      height: 32px;\n",
              "      padding: 0 0 0 0;\n",
              "      width: 32px;\n",
              "    }\n",
              "\n",
              "    .colab-df-convert:hover {\n",
              "      background-color: #E2EBFA;\n",
              "      box-shadow: 0px 1px 2px rgba(60, 64, 67, 0.3), 0px 1px 3px 1px rgba(60, 64, 67, 0.15);\n",
              "      fill: #174EA6;\n",
              "    }\n",
              "\n",
              "    [theme=dark] .colab-df-convert {\n",
              "      background-color: #3B4455;\n",
              "      fill: #D2E3FC;\n",
              "    }\n",
              "\n",
              "    [theme=dark] .colab-df-convert:hover {\n",
              "      background-color: #434B5C;\n",
              "      box-shadow: 0px 1px 3px 1px rgba(0, 0, 0, 0.15);\n",
              "      filter: drop-shadow(0px 1px 2px rgba(0, 0, 0, 0.3));\n",
              "      fill: #FFFFFF;\n",
              "    }\n",
              "  </style>\n",
              "\n",
              "      <script>\n",
              "        const buttonEl =\n",
              "          document.querySelector('#df-11a01007-c167-4411-ba9b-c402e5a56360 button.colab-df-convert');\n",
              "        buttonEl.style.display =\n",
              "          google.colab.kernel.accessAllowed ? 'block' : 'none';\n",
              "\n",
              "        async function convertToInteractive(key) {\n",
              "          const element = document.querySelector('#df-11a01007-c167-4411-ba9b-c402e5a56360');\n",
              "          const dataTable =\n",
              "            await google.colab.kernel.invokeFunction('convertToInteractive',\n",
              "                                                     [key], {});\n",
              "          if (!dataTable) return;\n",
              "\n",
              "          const docLinkHtml = 'Like what you see? Visit the ' +\n",
              "            '<a target=\"_blank\" href=https://colab.research.google.com/notebooks/data_table.ipynb>data table notebook</a>'\n",
              "            + ' to learn more about interactive tables.';\n",
              "          element.innerHTML = '';\n",
              "          dataTable['output_type'] = 'display_data';\n",
              "          await google.colab.output.renderOutput(dataTable, element);\n",
              "          const docLink = document.createElement('div');\n",
              "          docLink.innerHTML = docLinkHtml;\n",
              "          element.appendChild(docLink);\n",
              "        }\n",
              "      </script>\n",
              "    </div>\n",
              "  </div>\n",
              "  "
            ]
          },
          "metadata": {},
          "execution_count": 52
        }
      ]
    },
    {
      "cell_type": "markdown",
      "source": [
        "Tokenizer"
      ],
      "metadata": {
        "id": "HzvKjiKgwqU9"
      }
    },
    {
      "cell_type": "code",
      "source": [
        "tokenizer = Tokenizer(num_words=train_vocab, lower=True)"
      ],
      "metadata": {
        "id": "QcTLmeqOkF21"
      },
      "execution_count": 53,
      "outputs": []
    },
    {
      "cell_type": "code",
      "source": [
        "tokenizer.fit_on_texts(train_data['train_sentences'])\n",
        "tokenizer.fit_on_texts(test_data['test_sentences'])\n",
        "word_index = tokenizer.word_index\n",
        "print('Found %s unique tokens.' % len(word_index))"
      ],
      "metadata": {
        "colab": {
          "base_uri": "https://localhost:8080/"
        },
        "id": "mXnc645z-q5y",
        "outputId": "4a45227e-4eb0-4887-b867-b84c2217b56f"
      },
      "execution_count": 54,
      "outputs": [
        {
          "output_type": "stream",
          "name": "stdout",
          "text": [
            "Found 83058 unique tokens.\n"
          ]
        }
      ]
    },
    {
      "cell_type": "markdown",
      "source": [
        "Creating Sequences"
      ],
      "metadata": {
        "id": "u7PfhmDDwzJO"
      }
    },
    {
      "cell_type": "code",
      "source": [
        "train_data['train_sequences'] = tokenizer.texts_to_sequences(train_data['train_sentences'])\n",
        "test_data['test_sequences'] = tokenizer.texts_to_sequences(test_data['test_sentences'])"
      ],
      "metadata": {
        "id": "i8rQDySGLkHf"
      },
      "execution_count": 55,
      "outputs": []
    },
    {
      "cell_type": "code",
      "source": [
        "train_data.head()"
      ],
      "metadata": {
        "colab": {
          "base_uri": "https://localhost:8080/",
          "height": 337
        },
        "id": "BUd7ERdx3QoS",
        "outputId": "ff775721-8c78-4b67-c1e7-2ed2efa82709"
      },
      "execution_count": 56,
      "outputs": [
        {
          "output_type": "execute_result",
          "data": {
            "text/plain": [
              "                                       OriginalTweet  Target_class  \\\n",
              "0  @MeNyrbie @Phil_Gahan @Chrisitv https://t.co/i...             2   \n",
              "1  advice Talk to your neighbours family to excha...             3   \n",
              "2  Coronavirus Australia: Woolworths to give elde...             3   \n",
              "3  My food stock is not the only one which is emp...             3   \n",
              "4  Me, ready to go at supermarket during the #COV...             0   \n",
              "\n",
              "                                            raw_text  \\\n",
              "0   menyrbie phil gahan chrisitv https t co ifz9f...   \n",
              "1  advice talk neighbours family exchange phone n...   \n",
              "2  coronavirus australia woolworths give elderly ...   \n",
              "3  food stock one empty please panic enough food ...   \n",
              "4  me ready go supermarket covid19 outbreak i m p...   \n",
              "\n",
              "                                     train_sentences  \\\n",
              "0   menyrbie phil gahan chrisitv https t co ifz9f...   \n",
              "1  advice talk neighbours family exchange phone n...   \n",
              "2  coronavirus australia woolworths give elderly ...   \n",
              "3  food stock one empty please panic enough food ...   \n",
              "4  me ready go supermarket covid19 outbreak i m p...   \n",
              "\n",
              "                                     train_sequences  \n",
              "0  [24445, 7500, 24446, 13774, 3, 1, 2, 24447, 3,...  \n",
              "1  [441, 824, 2362, 186, 2640, 790, 1233, 1072, 3...  \n",
              "2  [4, 688, 1593, 255, 226, 1325, 1889, 17, 189, ...  \n",
              "3  [7, 23, 36, 132, 39, 21, 175, 7, 70, 71, 22, 5...  \n",
              "4  [306, 664, 30, 10, 15, 79, 24, 51, 4028, 7, 23...  "
            ],
            "text/html": [
              "\n",
              "  <div id=\"df-3fb2d7ed-2c8e-4b21-980f-ad0b9dee5f5f\">\n",
              "    <div class=\"colab-df-container\">\n",
              "      <div>\n",
              "<style scoped>\n",
              "    .dataframe tbody tr th:only-of-type {\n",
              "        vertical-align: middle;\n",
              "    }\n",
              "\n",
              "    .dataframe tbody tr th {\n",
              "        vertical-align: top;\n",
              "    }\n",
              "\n",
              "    .dataframe thead th {\n",
              "        text-align: right;\n",
              "    }\n",
              "</style>\n",
              "<table border=\"1\" class=\"dataframe\">\n",
              "  <thead>\n",
              "    <tr style=\"text-align: right;\">\n",
              "      <th></th>\n",
              "      <th>OriginalTweet</th>\n",
              "      <th>Target_class</th>\n",
              "      <th>raw_text</th>\n",
              "      <th>train_sentences</th>\n",
              "      <th>train_sequences</th>\n",
              "    </tr>\n",
              "  </thead>\n",
              "  <tbody>\n",
              "    <tr>\n",
              "      <th>0</th>\n",
              "      <td>@MeNyrbie @Phil_Gahan @Chrisitv https://t.co/i...</td>\n",
              "      <td>2</td>\n",
              "      <td>menyrbie phil gahan chrisitv https t co ifz9f...</td>\n",
              "      <td>menyrbie phil gahan chrisitv https t co ifz9f...</td>\n",
              "      <td>[24445, 7500, 24446, 13774, 3, 1, 2, 24447, 3,...</td>\n",
              "    </tr>\n",
              "    <tr>\n",
              "      <th>1</th>\n",
              "      <td>advice Talk to your neighbours family to excha...</td>\n",
              "      <td>3</td>\n",
              "      <td>advice talk neighbours family exchange phone n...</td>\n",
              "      <td>advice talk neighbours family exchange phone n...</td>\n",
              "      <td>[441, 824, 2362, 186, 2640, 790, 1233, 1072, 3...</td>\n",
              "    </tr>\n",
              "    <tr>\n",
              "      <th>2</th>\n",
              "      <td>Coronavirus Australia: Woolworths to give elde...</td>\n",
              "      <td>3</td>\n",
              "      <td>coronavirus australia woolworths give elderly ...</td>\n",
              "      <td>coronavirus australia woolworths give elderly ...</td>\n",
              "      <td>[4, 688, 1593, 255, 226, 1325, 1889, 17, 189, ...</td>\n",
              "    </tr>\n",
              "    <tr>\n",
              "      <th>3</th>\n",
              "      <td>My food stock is not the only one which is emp...</td>\n",
              "      <td>3</td>\n",
              "      <td>food stock one empty please panic enough food ...</td>\n",
              "      <td>food stock one empty please panic enough food ...</td>\n",
              "      <td>[7, 23, 36, 132, 39, 21, 175, 7, 70, 71, 22, 5...</td>\n",
              "    </tr>\n",
              "    <tr>\n",
              "      <th>4</th>\n",
              "      <td>Me, ready to go at supermarket during the #COV...</td>\n",
              "      <td>0</td>\n",
              "      <td>me ready go supermarket covid19 outbreak i m p...</td>\n",
              "      <td>me ready go supermarket covid19 outbreak i m p...</td>\n",
              "      <td>[306, 664, 30, 10, 15, 79, 24, 51, 4028, 7, 23...</td>\n",
              "    </tr>\n",
              "  </tbody>\n",
              "</table>\n",
              "</div>\n",
              "      <button class=\"colab-df-convert\" onclick=\"convertToInteractive('df-3fb2d7ed-2c8e-4b21-980f-ad0b9dee5f5f')\"\n",
              "              title=\"Convert this dataframe to an interactive table.\"\n",
              "              style=\"display:none;\">\n",
              "        \n",
              "  <svg xmlns=\"http://www.w3.org/2000/svg\" height=\"24px\"viewBox=\"0 0 24 24\"\n",
              "       width=\"24px\">\n",
              "    <path d=\"M0 0h24v24H0V0z\" fill=\"none\"/>\n",
              "    <path d=\"M18.56 5.44l.94 2.06.94-2.06 2.06-.94-2.06-.94-.94-2.06-.94 2.06-2.06.94zm-11 1L8.5 8.5l.94-2.06 2.06-.94-2.06-.94L8.5 2.5l-.94 2.06-2.06.94zm10 10l.94 2.06.94-2.06 2.06-.94-2.06-.94-.94-2.06-.94 2.06-2.06.94z\"/><path d=\"M17.41 7.96l-1.37-1.37c-.4-.4-.92-.59-1.43-.59-.52 0-1.04.2-1.43.59L10.3 9.45l-7.72 7.72c-.78.78-.78 2.05 0 2.83L4 21.41c.39.39.9.59 1.41.59.51 0 1.02-.2 1.41-.59l7.78-7.78 2.81-2.81c.8-.78.8-2.07 0-2.86zM5.41 20L4 18.59l7.72-7.72 1.47 1.35L5.41 20z\"/>\n",
              "  </svg>\n",
              "      </button>\n",
              "      \n",
              "  <style>\n",
              "    .colab-df-container {\n",
              "      display:flex;\n",
              "      flex-wrap:wrap;\n",
              "      gap: 12px;\n",
              "    }\n",
              "\n",
              "    .colab-df-convert {\n",
              "      background-color: #E8F0FE;\n",
              "      border: none;\n",
              "      border-radius: 50%;\n",
              "      cursor: pointer;\n",
              "      display: none;\n",
              "      fill: #1967D2;\n",
              "      height: 32px;\n",
              "      padding: 0 0 0 0;\n",
              "      width: 32px;\n",
              "    }\n",
              "\n",
              "    .colab-df-convert:hover {\n",
              "      background-color: #E2EBFA;\n",
              "      box-shadow: 0px 1px 2px rgba(60, 64, 67, 0.3), 0px 1px 3px 1px rgba(60, 64, 67, 0.15);\n",
              "      fill: #174EA6;\n",
              "    }\n",
              "\n",
              "    [theme=dark] .colab-df-convert {\n",
              "      background-color: #3B4455;\n",
              "      fill: #D2E3FC;\n",
              "    }\n",
              "\n",
              "    [theme=dark] .colab-df-convert:hover {\n",
              "      background-color: #434B5C;\n",
              "      box-shadow: 0px 1px 3px 1px rgba(0, 0, 0, 0.15);\n",
              "      filter: drop-shadow(0px 1px 2px rgba(0, 0, 0, 0.3));\n",
              "      fill: #FFFFFF;\n",
              "    }\n",
              "  </style>\n",
              "\n",
              "      <script>\n",
              "        const buttonEl =\n",
              "          document.querySelector('#df-3fb2d7ed-2c8e-4b21-980f-ad0b9dee5f5f button.colab-df-convert');\n",
              "        buttonEl.style.display =\n",
              "          google.colab.kernel.accessAllowed ? 'block' : 'none';\n",
              "\n",
              "        async function convertToInteractive(key) {\n",
              "          const element = document.querySelector('#df-3fb2d7ed-2c8e-4b21-980f-ad0b9dee5f5f');\n",
              "          const dataTable =\n",
              "            await google.colab.kernel.invokeFunction('convertToInteractive',\n",
              "                                                     [key], {});\n",
              "          if (!dataTable) return;\n",
              "\n",
              "          const docLinkHtml = 'Like what you see? Visit the ' +\n",
              "            '<a target=\"_blank\" href=https://colab.research.google.com/notebooks/data_table.ipynb>data table notebook</a>'\n",
              "            + ' to learn more about interactive tables.';\n",
              "          element.innerHTML = '';\n",
              "          dataTable['output_type'] = 'display_data';\n",
              "          await google.colab.output.renderOutput(dataTable, element);\n",
              "          const docLink = document.createElement('div');\n",
              "          docLink.innerHTML = docLinkHtml;\n",
              "          element.appendChild(docLink);\n",
              "        }\n",
              "      </script>\n",
              "    </div>\n",
              "  </div>\n",
              "  "
            ]
          },
          "metadata": {},
          "execution_count": 56
        }
      ]
    },
    {
      "cell_type": "markdown",
      "source": [
        "Defining embedding dimension, trucating type, and padding type and maximum number of characters in a sentence. \n",
        "> * Truncate and pad the input sequences \n",
        "* Embedding dimension for mapping the original input data into set of real-valued dimensions. "
      ],
      "metadata": {
        "id": "JXoCqlyaw3nO"
      }
    },
    {
      "cell_type": "code",
      "source": [
        "embedding_dim = 100\n",
        "trunc_type='post'\n",
        "padding_type='post'\n",
        "# Max number of characters in a Tweet is 140 \n",
        "max_length = 140"
      ],
      "metadata": {
        "id": "wXOlT54P6wAg"
      },
      "execution_count": 57,
      "outputs": []
    },
    {
      "cell_type": "code",
      "source": [
        "train_padded = pad_sequences(train_data['train_sequences'], maxlen=max_length, padding=padding_type, truncating=trunc_type)\n",
        "test_padded = pad_sequences(test_data['test_sequences'], maxlen=max_length, padding=padding_type, truncating=padding_type)\n",
        "\n",
        "print('Shape of training data tensor:', train_padded.shape)\n",
        "print('Shape of testing data tensor:', test_padded.shape)"
      ],
      "metadata": {
        "id": "D73IbIWNLt-2",
        "colab": {
          "base_uri": "https://localhost:8080/"
        },
        "outputId": "f640766b-8569-40e3-b407-b7f2916704de"
      },
      "execution_count": 59,
      "outputs": [
        {
          "output_type": "stream",
          "name": "stdout",
          "text": [
            "Shape of training data tensor: (41157, 140)\n",
            "Shape of testing data tensor: (3798, 140)\n"
          ]
        }
      ]
    },
    {
      "cell_type": "code",
      "source": [
        "train_padded"
      ],
      "metadata": {
        "colab": {
          "base_uri": "https://localhost:8080/"
        },
        "id": "AIFlGsTn7L_I",
        "outputId": "af4ab329-562d-46e5-abe0-ec45d59f6fe8"
      },
      "execution_count": 60,
      "outputs": [
        {
          "output_type": "execute_result",
          "data": {
            "text/plain": [
              "array([[24445,  7500, 24446, ...,     0,     0,     0],\n",
              "       [  441,   824,  2362, ...,     0,     0,     0],\n",
              "       [    4,   688,  1593, ...,     0,     0,     0],\n",
              "       ...,\n",
              "       [   67,    49,    13, ...,     0,     0,     0],\n",
              "       [  656,  4384,    34, ...,     0,     0,     0],\n",
              "       [  126,    44,   436, ...,     0,     0,     0]], dtype=int32)"
            ]
          },
          "metadata": {},
          "execution_count": 60
        }
      ]
    },
    {
      "cell_type": "code",
      "source": [
        "train_target_class = train_data['Target_class'].to_numpy()\n",
        "test_target_class = test_data['Target_class'].to_numpy()\n",
        "\n",
        "print('Shape of label tensor:', train_target_class.shape)\n",
        "print('Shape of label tensor:', test_target_class.shape)"
      ],
      "metadata": {
        "colab": {
          "base_uri": "https://localhost:8080/"
        },
        "id": "nCD8n6yK7HC9",
        "outputId": "01fc7a57-0a70-413d-ac57-45684857c978"
      },
      "execution_count": 61,
      "outputs": [
        {
          "output_type": "stream",
          "name": "stdout",
          "text": [
            "Shape of label tensor: (41157,)\n",
            "Shape of label tensor: (3798,)\n"
          ]
        }
      ]
    },
    {
      "cell_type": "code",
      "source": [
        "train_target_class"
      ],
      "metadata": {
        "colab": {
          "base_uri": "https://localhost:8080/"
        },
        "id": "bAlf7YcN7PVg",
        "outputId": "ea054f7b-b101-48f2-f46b-c53ceff454d6"
      },
      "execution_count": 62,
      "outputs": [
        {
          "output_type": "execute_result",
          "data": {
            "text/plain": [
              "array([2, 3, 3, ..., 3, 2, 1])"
            ]
          },
          "metadata": {},
          "execution_count": 62
        }
      ]
    },
    {
      "cell_type": "markdown",
      "source": [
        "#### Split Training data into Training and Validation Dataset"
      ],
      "metadata": {
        "id": "WDCnnF1By9A2"
      }
    },
    {
      "cell_type": "code",
      "source": [
        "x_train,x_val,y_train,y_val = train_test_split(train_padded,train_target_class, test_size=0.33)"
      ],
      "metadata": {
        "id": "d8XWMhN5y7lj"
      },
      "execution_count": 63,
      "outputs": []
    },
    {
      "cell_type": "markdown",
      "source": [
        "#### Function to plot graphs for loss and accuracy "
      ],
      "metadata": {
        "id": "Uu0CoJsSxkvD"
      }
    },
    {
      "cell_type": "code",
      "execution_count": 64,
      "metadata": {
        "id": "d-RXODb5dRD5"
      },
      "outputs": [],
      "source": [
        "def plot_graphs(history, string):\n",
        "  plt.plot(history.history[string])\n",
        "  plt.plot(history.history['val_'+string])\n",
        "  plt.xlabel(\"Epochs\")\n",
        "  plt.ylabel(string)\n",
        "  plt.legend(['Training '+ string, 'Validation '+string])\n",
        "  plt.show()"
      ]
    },
    {
      "cell_type": "markdown",
      "source": [
        "### Training Models \n",
        "\n",
        "*  1D CNN with Global Pooling\n",
        "*  RNN Bidirectional LSTM \n",
        "*  SpatialDropout1D + Bidirectional LSTM "
      ],
      "metadata": {
        "id": "wcggrWixXzvR"
      }
    },
    {
      "cell_type": "markdown",
      "source": [
        "#### Specifying Loss, Optimizer, evaluation metrics and epochs"
      ],
      "metadata": {
        "id": "5rJ2gaJo7dyZ"
      }
    },
    {
      "cell_type": "code",
      "source": [
        "loss = tf.keras.losses.SparseCategoricalCrossentropy(from_logits=False)\n",
        "optim = tf.keras.optimizers.Adam(lr=0.001)\n",
        "metrics = [\"accuracy\"]\n",
        "num_epochs = 10"
      ],
      "metadata": {
        "id": "H2zb080FeABX"
      },
      "execution_count": 75,
      "outputs": []
    },
    {
      "cell_type": "markdown",
      "source": [
        "#### CNN - CONV1D + Global Max Pooling"
      ],
      "metadata": {
        "id": "ucCBrXRT7jvI"
      }
    },
    {
      "cell_type": "code",
      "source": [
        "Model1 = tf.keras.Sequential([\n",
        "    tf.keras.layers.Embedding(train_vocab, embedding_dim,input_length = max_length),\n",
        "    # we add a Convolution1D, which will learn filters\n",
        "    tf.keras.layers.Conv1D(128, 5),\n",
        "    # we use max pooling\n",
        "    tf.keras.layers.GlobalMaxPooling1D(data_format = 'channels_first', keepdims = False),\n",
        "    tf.keras.layers.Dropout(0.5),\n",
        "    tf.keras.layers.Dense(5, activation = 'softmax')])"
      ],
      "metadata": {
        "id": "VgZwV9ZDaKUG"
      },
      "execution_count": 74,
      "outputs": []
    },
    {
      "cell_type": "code",
      "source": [
        "Model1.summary()\n",
        "Model1.compile(loss=loss, optimizer=optim, metrics=metrics)\n",
        "history1 = Model1.fit(x_train, y_train,validation_data=(x_val, y_val), epochs=num_epochs, verbose = 1)"
      ],
      "metadata": {
        "colab": {
          "base_uri": "https://localhost:8080/"
        },
        "id": "3_k22R-oeGGv",
        "outputId": "2605e700-472f-4073-a11f-fb2dfb528500"
      },
      "execution_count": 76,
      "outputs": [
        {
          "output_type": "stream",
          "name": "stdout",
          "text": [
            "Model: \"sequential_4\"\n",
            "_________________________________________________________________\n",
            " Layer (type)                Output Shape              Param #   \n",
            "=================================================================\n",
            " embedding_4 (Embedding)     (None, 140, 100)          7858300   \n",
            "                                                                 \n",
            " conv1d_4 (Conv1D)           (None, 136, 128)          64128     \n",
            "                                                                 \n",
            " global_max_pooling1d_4 (Glo  (None, 136)              0         \n",
            " balMaxPooling1D)                                                \n",
            "                                                                 \n",
            " dropout_4 (Dropout)         (None, 136)               0         \n",
            "                                                                 \n",
            " dense_4 (Dense)             (None, 5)                 685       \n",
            "                                                                 \n",
            "=================================================================\n",
            "Total params: 7,923,113\n",
            "Trainable params: 7,923,113\n",
            "Non-trainable params: 0\n",
            "_________________________________________________________________\n",
            "Epoch 1/10\n",
            "862/862 [==============================] - 130s 148ms/step - loss: 1.5734 - accuracy: 0.2735 - val_loss: 1.5341 - val_accuracy: 0.2956\n",
            "Epoch 2/10\n",
            "862/862 [==============================] - 109s 126ms/step - loss: 1.4500 - accuracy: 0.3576 - val_loss: 1.4026 - val_accuracy: 0.3765\n",
            "Epoch 3/10\n",
            "862/862 [==============================] - 109s 126ms/step - loss: 1.1748 - accuracy: 0.5088 - val_loss: 1.3522 - val_accuracy: 0.3919\n",
            "Epoch 4/10\n",
            "862/862 [==============================] - 109s 126ms/step - loss: 0.9036 - accuracy: 0.6333 - val_loss: 1.3916 - val_accuracy: 0.4001\n",
            "Epoch 5/10\n",
            "862/862 [==============================] - 107s 124ms/step - loss: 0.7195 - accuracy: 0.7169 - val_loss: 1.4547 - val_accuracy: 0.3965\n",
            "Epoch 6/10\n",
            "862/862 [==============================] - 107s 124ms/step - loss: 0.5899 - accuracy: 0.7695 - val_loss: 1.5383 - val_accuracy: 0.3842\n",
            "Epoch 7/10\n",
            "862/862 [==============================] - 107s 124ms/step - loss: 0.4960 - accuracy: 0.8071 - val_loss: 1.6168 - val_accuracy: 0.3807\n",
            "Epoch 8/10\n",
            "862/862 [==============================] - 106s 123ms/step - loss: 0.4324 - accuracy: 0.8301 - val_loss: 1.6854 - val_accuracy: 0.3745\n",
            "Epoch 9/10\n",
            "862/862 [==============================] - 107s 124ms/step - loss: 0.3761 - accuracy: 0.8558 - val_loss: 1.7604 - val_accuracy: 0.3638\n",
            "Epoch 10/10\n",
            "862/862 [==============================] - 107s 124ms/step - loss: 0.3367 - accuracy: 0.8694 - val_loss: 1.8498 - val_accuracy: 0.3634\n"
          ]
        }
      ]
    },
    {
      "cell_type": "code",
      "execution_count": 77,
      "metadata": {
        "id": "NIuEwgT4VuO7",
        "colab": {
          "base_uri": "https://localhost:8080/",
          "height": 541
        },
        "outputId": "3798614c-479e-4743-80ab-2e491a22f36d"
      },
      "outputs": [
        {
          "output_type": "display_data",
          "data": {
            "text/plain": [
              "<Figure size 432x288 with 1 Axes>"
            ],
            "image/png": "[encoded data removed]"
          },
          "metadata": {
            "needs_background": "light"
          }
        },
        {
          "output_type": "display_data",
          "data": {
            "text/plain": [
              "<Figure size 432x288 with 1 Axes>"
            ],
            "image/png": "[encoded data removed]"
          },
          "metadata": {
            "needs_background": "light"
          }
        }
      ],
      "source": [
        "plot_graphs(history1, 'accuracy')\n",
        "plot_graphs(history1, 'loss')"
      ]
    },
    {
      "cell_type": "code",
      "source": [
        "print('Average Training accuracy ' + str(round(sum(history1.history['accuracy'])/10,2)))\n",
        "print('Average Validation accuracy ' + str(round(sum(history1.history['val_accuracy'])/10,2)))"
      ],
      "metadata": {
        "colab": {
          "base_uri": "https://localhost:8080/"
        },
        "id": "De0LkcQIlWZo",
        "outputId": "a16d314f-ad87-41d1-8750-df16558d53f8"
      },
      "execution_count": 110,
      "outputs": [
        {
          "output_type": "stream",
          "name": "stdout",
          "text": [
            "Average Training accuracy 0.66\n",
            "Average Validation accuracy 0.37\n"
          ]
        }
      ]
    },
    {
      "cell_type": "markdown",
      "source": [
        "The model is grossly overfitted and did not do well for unseen validation data."
      ],
      "metadata": {
        "id": "NMjPNhAG76_Z"
      }
    },
    {
      "cell_type": "code",
      "source": [
        "loss = tf.keras.losses.SparseCategoricalCrossentropy()\n",
        "optim = tf.keras.optimizers.Adam(lr=0.001)\n",
        "metrics = [\"accuracy\"]\n",
        "num_epochs = 10"
      ],
      "metadata": {
        "id": "wsQX8-o1eU0x"
      },
      "execution_count": 113,
      "outputs": []
    },
    {
      "cell_type": "markdown",
      "source": [
        "#### RNN - BLSTM"
      ],
      "metadata": {
        "id": "clvyw_1b67e0"
      }
    },
    {
      "cell_type": "code",
      "source": [
        "Model2_1 = tf.keras.models.Sequential([\n",
        "  tf.keras.layers.Embedding(train_vocab, embedding_dim, input_length = max_length),\n",
        "  tf.keras.layers.Bidirectional(tf.keras.layers.LSTM(100)), \n",
        "  tf.keras.layers.Dropout(0.5), \n",
        "  tf.keras.layers.Dense(5, activation=\"softmax\") ])"
      ],
      "metadata": {
        "id": "b_a2utAi6dZ2"
      },
      "execution_count": 114,
      "outputs": []
    },
    {
      "cell_type": "code",
      "source": [
        "Model2_1.summary()\n",
        "Model2_1.compile(loss=loss, optimizer=optim, metrics=metrics)\n",
        "history2_1 = Model2_1.fit(x_train, y_train,validation_data=(x_val, y_val), epochs=num_epochs,verbose = 1)"
      ],
      "metadata": {
        "colab": {
          "base_uri": "https://localhost:8080/"
        },
        "id": "P08dUkJE6ddV",
        "outputId": "93cea6c4-06af-4e18-d130-dcd3da5ef34c"
      },
      "execution_count": 115,
      "outputs": [
        {
          "output_type": "stream",
          "name": "stdout",
          "text": [
            "Model: \"sequential_6\"\n",
            "_________________________________________________________________\n",
            " Layer (type)                Output Shape              Param #   \n",
            "=================================================================\n",
            " embedding_6 (Embedding)     (None, 140, 100)          7858300   \n",
            "                                                                 \n",
            " bidirectional_1 (Bidirectio  (None, 200)              160800    \n",
            " nal)                                                            \n",
            "                                                                 \n",
            " dropout_6 (Dropout)         (None, 200)               0         \n",
            "                                                                 \n",
            " dense_6 (Dense)             (None, 5)                 1005      \n",
            "                                                                 \n",
            "=================================================================\n",
            "Total params: 8,020,105\n",
            "Trainable params: 8,020,105\n",
            "Non-trainable params: 0\n",
            "_________________________________________________________________\n",
            "Epoch 1/10\n",
            "862/862 [==============================] - 322s 298ms/step - loss: 1.1345 - accuracy: 0.5297 - val_loss: 0.8139 - val_accuracy: 0.6995\n",
            "Epoch 2/10\n",
            "862/862 [==============================] - 254s 295ms/step - loss: 0.6163 - accuracy: 0.7852 - val_loss: 0.7540 - val_accuracy: 0.7320\n",
            "Epoch 3/10\n",
            "862/862 [==============================] - 254s 294ms/step - loss: 0.3777 - accuracy: 0.8787 - val_loss: 0.8544 - val_accuracy: 0.7202\n",
            "Epoch 4/10\n",
            "862/862 [==============================] - 252s 293ms/step - loss: 0.2303 - accuracy: 0.9285 - val_loss: 1.0477 - val_accuracy: 0.6884\n",
            "Epoch 5/10\n",
            "862/862 [==============================] - 254s 295ms/step - loss: 0.1472 - accuracy: 0.9546 - val_loss: 1.3196 - val_accuracy: 0.6808\n",
            "Epoch 6/10\n",
            "862/862 [==============================] - 255s 295ms/step - loss: 0.1087 - accuracy: 0.9666 - val_loss: 1.3024 - val_accuracy: 0.6827\n",
            "Epoch 7/10\n",
            "862/862 [==============================] - 252s 293ms/step - loss: 0.0736 - accuracy: 0.9786 - val_loss: 1.7214 - val_accuracy: 0.6565\n",
            "Epoch 8/10\n",
            "862/862 [==============================] - 252s 292ms/step - loss: 0.0549 - accuracy: 0.9836 - val_loss: 1.6418 - val_accuracy: 0.6769\n",
            "Epoch 9/10\n",
            "862/862 [==============================] - 252s 292ms/step - loss: 0.0457 - accuracy: 0.9869 - val_loss: 2.2962 - val_accuracy: 0.6335\n",
            "Epoch 10/10\n",
            "862/862 [==============================] - 253s 294ms/step - loss: 0.0339 - accuracy: 0.9904 - val_loss: 2.1577 - val_accuracy: 0.6585\n"
          ]
        }
      ]
    },
    {
      "cell_type": "code",
      "source": [
        "plot_graphs(history2_1, 'accuracy')\n",
        "plot_graphs(history2_1, 'loss')"
      ],
      "metadata": {
        "colab": {
          "base_uri": "https://localhost:8080/",
          "height": 541
        },
        "id": "6Dfp87la7bLe",
        "outputId": "338a6064-9ab2-487b-9b21-e46152150c6e"
      },
      "execution_count": 116,
      "outputs": [
        {
          "output_type": "display_data",
          "data": {
            "text/plain": [
              "<Figure size 432x288 with 1 Axes>"
            ],
            "image/png": "[encoded data removed]"
          },
          "metadata": {
            "needs_background": "light"
          }
        },
        {
          "output_type": "display_data",
          "data": {
            "text/plain": [
              "<Figure size 432x288 with 1 Axes>"
            ],
            "image/png": "[encoded data removed]"
          },
          "metadata": {
            "needs_background": "light"
          }
        }
      ]
    },
    {
      "cell_type": "code",
      "source": [
        "print('Average Training accuracy ' + str(round(sum(history2_1.history['accuracy'])/10,2)))\n",
        "print('Average Validation accuracy ' + str(round(sum(history2_1.history['val_accuracy'])/10,2)))"
      ],
      "metadata": {
        "colab": {
          "base_uri": "https://localhost:8080/"
        },
        "id": "gFeAbI6IoYAA",
        "outputId": "097f1eae-c456-4874-ecaa-83204bf3590c"
      },
      "execution_count": 117,
      "outputs": [
        {
          "output_type": "stream",
          "name": "stdout",
          "text": [
            "Average Training accuracy 0.9\n",
            "Average Validation accuracy 0.68\n"
          ]
        }
      ]
    },
    {
      "cell_type": "markdown",
      "source": [
        "#### RNN - BLSTM with additional dropout and L2 regularizer"
      ],
      "metadata": {
        "id": "omXICbmH7KKw"
      }
    },
    {
      "cell_type": "code",
      "execution_count": 118,
      "metadata": {
        "id": "X-rhgMDZ3Mw0"
      },
      "outputs": [],
      "source": [
        "Model2_2 = tf.keras.models.Sequential([\n",
        "  tf.keras.layers.Embedding(train_vocab, embedding_dim, input_length = max_length),\n",
        "  tf.keras.layers.Bidirectional(tf.keras.layers.LSTM(100,dropout = 0.5,recurrent_dropout = 0.5,bias_regularizer=tf.keras.regularizers.L2(0.001))), \n",
        "  #L2 Regularizers for avoiding overfitting \n",
        "  tf.keras.layers.Dropout(0.5),\n",
        "  tf.keras.layers.Dense(5, activation=\"softmax\",kernel_regularizer='l2') ])"
      ]
    },
    {
      "cell_type": "code",
      "source": [
        "Model2_2.summary()\n",
        "Model2_2.compile(loss=loss, optimizer=optim, metrics=metrics)\n",
        "history2_2 = Model2_2.fit(x_train, y_train,validation_data=(x_val, y_val), epochs=num_epochs,verbose = 1)"
      ],
      "metadata": {
        "colab": {
          "base_uri": "https://localhost:8080/"
        },
        "id": "q1IQnlAMeZYQ",
        "outputId": "2464ec89-e2ad-43fd-8f41-c2af731ba80e"
      },
      "execution_count": 119,
      "outputs": [
        {
          "output_type": "stream",
          "name": "stdout",
          "text": [
            "Model: \"sequential_7\"\n",
            "_________________________________________________________________\n",
            " Layer (type)                Output Shape              Param #   \n",
            "=================================================================\n",
            " embedding_7 (Embedding)     (None, 140, 100)          7858300   \n",
            "                                                                 \n",
            " bidirectional_2 (Bidirectio  (None, 200)              160800    \n",
            " nal)                                                            \n",
            "                                                                 \n",
            " dropout_7 (Dropout)         (None, 200)               0         \n",
            "                                                                 \n",
            " dense_7 (Dense)             (None, 5)                 1005      \n",
            "                                                                 \n",
            "=================================================================\n",
            "Total params: 8,020,105\n",
            "Trainable params: 8,020,105\n",
            "Non-trainable params: 0\n",
            "_________________________________________________________________\n",
            "Epoch 1/10\n",
            "862/862 [==============================] - 567s 646ms/step - loss: 1.1803 - accuracy: 0.5466 - val_loss: 0.8802 - val_accuracy: 0.6970\n",
            "Epoch 2/10\n",
            "862/862 [==============================] - 538s 625ms/step - loss: 0.7337 - accuracy: 0.7581 - val_loss: 0.7975 - val_accuracy: 0.7322\n",
            "Epoch 3/10\n",
            "862/862 [==============================] - 558s 648ms/step - loss: 0.5527 - accuracy: 0.8334 - val_loss: 0.8218 - val_accuracy: 0.7301\n",
            "Epoch 4/10\n",
            "862/862 [==============================] - 576s 668ms/step - loss: 0.4300 - accuracy: 0.8826 - val_loss: 0.8969 - val_accuracy: 0.7192\n",
            "Epoch 5/10\n",
            "862/862 [==============================] - 535s 620ms/step - loss: 0.3484 - accuracy: 0.9114 - val_loss: 1.0672 - val_accuracy: 0.6906\n",
            "Epoch 6/10\n",
            "862/862 [==============================] - 533s 618ms/step - loss: 0.2900 - accuracy: 0.9291 - val_loss: 1.0723 - val_accuracy: 0.6998\n",
            "Epoch 7/10\n",
            "862/862 [==============================] - 533s 618ms/step - loss: 0.2532 - accuracy: 0.9415 - val_loss: 1.1203 - val_accuracy: 0.6927\n",
            "Epoch 8/10\n",
            "862/862 [==============================] - 532s 617ms/step - loss: 0.2234 - accuracy: 0.9504 - val_loss: 1.2068 - val_accuracy: 0.6830\n",
            "Epoch 9/10\n",
            "862/862 [==============================] - 534s 620ms/step - loss: 0.2001 - accuracy: 0.9579 - val_loss: 1.2224 - val_accuracy: 0.6761\n",
            "Epoch 10/10\n",
            "862/862 [==============================] - 534s 619ms/step - loss: 0.1817 - accuracy: 0.9619 - val_loss: 1.2685 - val_accuracy: 0.6774\n"
          ]
        }
      ]
    },
    {
      "cell_type": "code",
      "source": [
        "plot_graphs(history2_2, 'accuracy')\n",
        "plot_graphs(history2_2, 'loss')"
      ],
      "metadata": {
        "id": "bLyn0LZNYaV4",
        "colab": {
          "base_uri": "https://localhost:8080/",
          "height": 541
        },
        "outputId": "eda2b4f7-c503-41da-bf06-926e001aa2f5"
      },
      "execution_count": 120,
      "outputs": [
        {
          "output_type": "display_data",
          "data": {
            "text/plain": [
              "<Figure size 432x288 with 1 Axes>"
            ],
            "image/png": "[encoded data removed]"
          },
          "metadata": {
            "needs_background": "light"
          }
        },
        {
          "output_type": "display_data",
          "data": {
            "text/plain": [
              "<Figure size 432x288 with 1 Axes>"
            ],
            "image/png": "[encoded data removed]"
          },
          "metadata": {
            "needs_background": "light"
          }
        }
      ]
    },
    {
      "cell_type": "code",
      "source": [
        "print('Average Training accuracy ' + str(round(sum(history2_2.history['accuracy'])/10,2)))\n",
        "print('Average Validation accuracy ' + str(round(sum(history2_2.history['val_accuracy'])/10,2)))"
      ],
      "metadata": {
        "colab": {
          "base_uri": "https://localhost:8080/"
        },
        "id": "7tPM8dGQoe-U",
        "outputId": "423f4b39-b295-45ea-f356-799329865c53"
      },
      "execution_count": 121,
      "outputs": [
        {
          "output_type": "stream",
          "name": "stdout",
          "text": [
            "Average Training accuracy 0.87\n",
            "Average Validation accuracy 0.7\n"
          ]
        }
      ]
    },
    {
      "cell_type": "markdown",
      "source": [
        "#### BLSTM with Spatial Dropout 1D"
      ],
      "metadata": {
        "id": "zypxK4eNd4N9"
      }
    },
    {
      "cell_type": "code",
      "source": [
        "Model3 =  tf.keras.Sequential([\n",
        "  tf.keras.layers.Embedding(train_vocab, embedding_dim, input_length = max_length),\n",
        "  tf.keras.layers.Dropout(0.5),\n",
        "  tf.keras.layers.SpatialDropout1D(0.5),\n",
        "  tf.keras.layers.Bidirectional(tf.keras.layers.LSTM(100, dropout=0.5, recurrent_dropout=0.5)),\n",
        "  tf.keras.layers.Dropout(0.5),\n",
        "  tf.keras.layers.Dense(5, activation='softmax',kernel_regularizer='l2')])"
      ],
      "metadata": {
        "id": "IK31V2IPd93R"
      },
      "execution_count": 159,
      "outputs": []
    },
    {
      "cell_type": "code",
      "source": [
        "Model3.summary()\n",
        "Model3.compile(loss=loss, optimizer=optim, metrics=metrics)\n",
        "history3 = Model3.fit(x_train, y_train,validation_data=(x_val, y_val), epochs=10,verbose=1)"
      ],
      "metadata": {
        "colab": {
          "base_uri": "https://localhost:8080/"
        },
        "id": "zJ3Q4NqJeq5j",
        "outputId": "dd990f54-0ca8-431b-b421-30c03bc6a4be"
      },
      "execution_count": 162,
      "outputs": [
        {
          "output_type": "stream",
          "name": "stdout",
          "text": [
            "Model: \"sequential_16\"\n",
            "_________________________________________________________________\n",
            " Layer (type)                Output Shape              Param #   \n",
            "=================================================================\n",
            " embedding_16 (Embedding)    (None, 140, 100)          7858300   \n",
            "                                                                 \n",
            " dropout_21 (Dropout)        (None, 140, 100)          0         \n",
            "                                                                 \n",
            " spatial_dropout1d_5 (Spatia  (None, 140, 100)         0         \n",
            " lDropout1D)                                                     \n",
            "                                                                 \n",
            " bidirectional_14 (Bidirecti  (None, 200)              160800    \n",
            " onal)                                                           \n",
            "                                                                 \n",
            " dropout_22 (Dropout)        (None, 200)               0         \n",
            "                                                                 \n",
            " dense_19 (Dense)            (None, 5)                 1005      \n",
            "                                                                 \n",
            "=================================================================\n",
            "Total params: 8,020,105\n",
            "Trainable params: 8,020,105\n",
            "Non-trainable params: 0\n",
            "_________________________________________________________________\n",
            "Epoch 1/10\n",
            "862/862 [==============================] - 557s 638ms/step - loss: 0.8346 - accuracy: 0.6985 - val_loss: 0.8179 - val_accuracy: 0.7075\n",
            "Epoch 2/10\n",
            "862/862 [==============================] - 544s 631ms/step - loss: 0.7512 - accuracy: 0.7369 - val_loss: 0.7857 - val_accuracy: 0.7326\n",
            "Epoch 3/10\n",
            "862/862 [==============================] - 541s 628ms/step - loss: 0.6767 - accuracy: 0.7707 - val_loss: 0.7810 - val_accuracy: 0.7346\n",
            "Epoch 4/10\n",
            "862/862 [==============================] - 541s 627ms/step - loss: 0.6135 - accuracy: 0.7963 - val_loss: 0.8567 - val_accuracy: 0.7130\n",
            "Epoch 5/10\n",
            "862/862 [==============================] - 542s 629ms/step - loss: 0.5591 - accuracy: 0.8207 - val_loss: 0.8776 - val_accuracy: 0.7107\n",
            "Epoch 6/10\n",
            "862/862 [==============================] - 541s 628ms/step - loss: 0.5121 - accuracy: 0.8403 - val_loss: 0.8692 - val_accuracy: 0.7149\n",
            "Epoch 7/10\n",
            "862/862 [==============================] - 542s 628ms/step - loss: 0.4750 - accuracy: 0.8540 - val_loss: 0.9324 - val_accuracy: 0.7056\n",
            "Epoch 8/10\n",
            "862/862 [==============================] - 541s 628ms/step - loss: 0.4468 - accuracy: 0.8640 - val_loss: 0.9853 - val_accuracy: 0.7034\n",
            "Epoch 9/10\n",
            "862/862 [==============================] - 544s 631ms/step - loss: 0.4165 - accuracy: 0.8771 - val_loss: 0.9960 - val_accuracy: 0.6951\n",
            "Epoch 10/10\n",
            "862/862 [==============================] - 544s 631ms/step - loss: 0.3904 - accuracy: 0.8859 - val_loss: 1.0051 - val_accuracy: 0.6967\n"
          ]
        }
      ]
    },
    {
      "cell_type": "code",
      "source": [
        "plot_graphs(history3, 'accuracy')\n",
        "plot_graphs(history3, 'loss')"
      ],
      "metadata": {
        "colab": {
          "base_uri": "https://localhost:8080/",
          "height": 541
        },
        "id": "5KpdIWYmU10u",
        "outputId": "1f19c8e1-db6d-4360-9d90-f8b12f00f2c6"
      },
      "execution_count": 166,
      "outputs": [
        {
          "output_type": "display_data",
          "data": {
            "text/plain": [
              "<Figure size 432x288 with 1 Axes>"
            ],
            "image/png": "[encoded data removed]"
          },
          "metadata": {
            "needs_background": "light"
          }
        },
        {
          "output_type": "display_data",
          "data": {
            "text/plain": [
              "<Figure size 432x288 with 1 Axes>"
            ],
            "image/png": "[encoded data removed]"
          },
          "metadata": {
            "needs_background": "light"
          }
        }
      ]
    },
    {
      "cell_type": "code",
      "source": [
        "print('Average Training accuracy ' + str(round(sum(history3.history['accuracy'])/10,2)))\n",
        "print('Average Validation accuracy ' + str(round(sum(history3.history['val_accuracy'])/10,2)))"
      ],
      "metadata": {
        "colab": {
          "base_uri": "https://localhost:8080/"
        },
        "id": "RYhqayjNgOfs",
        "outputId": "c687d484-1de5-414e-901e-b8201f9bccaa"
      },
      "execution_count": 163,
      "outputs": [
        {
          "output_type": "stream",
          "name": "stdout",
          "text": [
            "Average Training accuracy 0.81\n",
            "Average Validation accuracy 0.71\n"
          ]
        }
      ]
    },
    {
      "cell_type": "markdown",
      "source": [
        "### Evaluation - Best model \n",
        "\n",
        "> RNN BLSTM with Spatial Drop Out\n"
      ],
      "metadata": {
        "id": "bQIvx60LToIl"
      }
    },
    {
      "cell_type": "code",
      "source": [
        "results = Model3.evaluate(test_padded, test_target_class)"
      ],
      "metadata": {
        "colab": {
          "base_uri": "https://localhost:8080/"
        },
        "id": "TwEml6rtYO0I",
        "outputId": "0db6bdc6-8565-4080-a307-7e7c99d6f27d"
      },
      "execution_count": 168,
      "outputs": [
        {
          "output_type": "stream",
          "name": "stdout",
          "text": [
            "119/119 [==============================] - 11s 92ms/step - loss: 1.2188 - accuracy: 0.6532\n"
          ]
        }
      ]
    },
    {
      "cell_type": "code",
      "source": [
        "from sklearn.metrics import classification_report\n",
        "\n",
        "predicted = np.argmax(Model3.predict(test_padded), axis=-1)\n",
        "print(classification_report(test_target_class, predicted))"
      ],
      "metadata": {
        "colab": {
          "base_uri": "https://localhost:8080/"
        },
        "id": "ToVNqSqu37zR",
        "outputId": "f477e837-4503-41af-9f1a-463d284d93cb"
      },
      "execution_count": 165,
      "outputs": [
        {
          "output_type": "stream",
          "name": "stdout",
          "text": [
            "              precision    recall  f1-score   support\n",
            "\n",
            "           0       0.81      0.45      0.58       592\n",
            "           1       0.57      0.67      0.62      1041\n",
            "           2       0.72      0.78      0.75       619\n",
            "           3       0.60      0.73      0.66       947\n",
            "           4       0.80      0.58      0.67       599\n",
            "\n",
            "    accuracy                           0.65      3798\n",
            "   macro avg       0.70      0.64      0.65      3798\n",
            "weighted avg       0.68      0.65      0.65      3798\n",
            "\n"
          ]
        }
      ]
    }
  ],
  "metadata": {
    "colab": {
      "collapsed_sections": [],
      "name": "Twitter Sentiment Analysis - COMP47650 - 21201694.ipynb",
      "provenance": [],
      "toc_visible": true,
      "authorship_tag": "ABX9TyNDhC6MTGjptoKibn9eWmaz",
      "include_colab_link": true
    },
    "kernelspec": {
      "display_name": "Python 3",
      "name": "python3"
    },
    "language_info": {
      "name": "python"
    }
  },
  "nbformat": 4,
  "nbformat_minor": 0
}